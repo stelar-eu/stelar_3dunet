{
  "cells": [
    {
      "cell_type": "code",
      "execution_count": 1,
      "metadata": {
        "id": "foXdS4Uil4WP"
      },
      "outputs": [
        {
          "name": "stderr",
          "output_type": "stream",
          "text": [
            "2024-06-25 17:17:56.976075: I tensorflow/core/util/port.cc:113] oneDNN custom operations are on. You may see slightly different numerical results due to floating-point round-off errors from different computation orders. To turn them off, set the environment variable `TF_ENABLE_ONEDNN_OPTS=0`.\n",
            "2024-06-25 17:17:57.027143: I tensorflow/core/platform/cpu_feature_guard.cc:210] This TensorFlow binary is optimized to use available CPU instructions in performance-critical operations.\n",
            "To enable the following instructions: AVX2 AVX512F AVX512_VNNI FMA, in other operations, rebuild TensorFlow with the appropriate compiler flags.\n",
            "2024-06-25 17:17:57.910746: W tensorflow/compiler/tf2tensorrt/utils/py_utils.cc:38] TF-TRT Warning: Could not find TensorRT\n"
          ]
        },
        {
          "name": "stdout",
          "output_type": "stream",
          "text": [
            "2.16.1\n",
            "3.3.3\n"
          ]
        }
      ],
      "source": [
        "import tensorflow as tf\n",
        "import keras\n",
        "print(tf.__version__)\n",
        "print(keras.__version__)"
      ]
    },
    {
      "cell_type": "code",
      "execution_count": null,
      "metadata": {},
      "outputs": [],
      "source": []
    },
    {
      "cell_type": "code",
      "execution_count": 2,
      "metadata": {},
      "outputs": [
        {
          "name": "stderr",
          "output_type": "stream",
          "text": [
            "2024-06-25 17:18:00.189894: I external/local_xla/xla/stream_executor/cuda/cuda_executor.cc:998] successful NUMA node read from SysFS had negative value (-1), but there must be at least one NUMA node, so returning NUMA node zero. See more at https://github.com/torvalds/linux/blob/v6.0/Documentation/ABI/testing/sysfs-bus-pci#L344-L355\n",
            "2024-06-25 17:18:00.192969: I external/local_xla/xla/stream_executor/cuda/cuda_executor.cc:998] successful NUMA node read from SysFS had negative value (-1), but there must be at least one NUMA node, so returning NUMA node zero. See more at https://github.com/torvalds/linux/blob/v6.0/Documentation/ABI/testing/sysfs-bus-pci#L344-L355\n",
            "2024-06-25 17:18:00.236415: I external/local_xla/xla/stream_executor/cuda/cuda_executor.cc:998] successful NUMA node read from SysFS had negative value (-1), but there must be at least one NUMA node, so returning NUMA node zero. See more at https://github.com/torvalds/linux/blob/v6.0/Documentation/ABI/testing/sysfs-bus-pci#L344-L355\n",
            "2024-06-25 17:18:00.237680: I external/local_xla/xla/stream_executor/cuda/cuda_executor.cc:998] successful NUMA node read from SysFS had negative value (-1), but there must be at least one NUMA node, so returning NUMA node zero. See more at https://github.com/torvalds/linux/blob/v6.0/Documentation/ABI/testing/sysfs-bus-pci#L344-L355\n",
            "2024-06-25 17:18:00.238871: I external/local_xla/xla/stream_executor/cuda/cuda_executor.cc:998] successful NUMA node read from SysFS had negative value (-1), but there must be at least one NUMA node, so returning NUMA node zero. See more at https://github.com/torvalds/linux/blob/v6.0/Documentation/ABI/testing/sysfs-bus-pci#L344-L355\n",
            "2024-06-25 17:18:00.240054: I external/local_xla/xla/stream_executor/cuda/cuda_executor.cc:998] successful NUMA node read from SysFS had negative value (-1), but there must be at least one NUMA node, so returning NUMA node zero. See more at https://github.com/torvalds/linux/blob/v6.0/Documentation/ABI/testing/sysfs-bus-pci#L344-L355\n",
            "2024-06-25 17:18:00.257740: I external/local_xla/xla/stream_executor/cuda/cuda_executor.cc:998] successful NUMA node read from SysFS had negative value (-1), but there must be at least one NUMA node, so returning NUMA node zero. See more at https://github.com/torvalds/linux/blob/v6.0/Documentation/ABI/testing/sysfs-bus-pci#L344-L355\n",
            "2024-06-25 17:18:00.258999: I external/local_xla/xla/stream_executor/cuda/cuda_executor.cc:998] successful NUMA node read from SysFS had negative value (-1), but there must be at least one NUMA node, so returning NUMA node zero. See more at https://github.com/torvalds/linux/blob/v6.0/Documentation/ABI/testing/sysfs-bus-pci#L344-L355\n",
            "2024-06-25 17:18:00.260199: I external/local_xla/xla/stream_executor/cuda/cuda_executor.cc:998] successful NUMA node read from SysFS had negative value (-1), but there must be at least one NUMA node, so returning NUMA node zero. See more at https://github.com/torvalds/linux/blob/v6.0/Documentation/ABI/testing/sysfs-bus-pci#L344-L355\n",
            "2024-06-25 17:18:00.261399: I external/local_xla/xla/stream_executor/cuda/cuda_executor.cc:998] successful NUMA node read from SysFS had negative value (-1), but there must be at least one NUMA node, so returning NUMA node zero. See more at https://github.com/torvalds/linux/blob/v6.0/Documentation/ABI/testing/sysfs-bus-pci#L344-L355\n",
            "2024-06-25 17:18:00.262592: I external/local_xla/xla/stream_executor/cuda/cuda_executor.cc:998] successful NUMA node read from SysFS had negative value (-1), but there must be at least one NUMA node, so returning NUMA node zero. See more at https://github.com/torvalds/linux/blob/v6.0/Documentation/ABI/testing/sysfs-bus-pci#L344-L355\n",
            "2024-06-25 17:18:00.263761: I tensorflow/core/common_runtime/gpu/gpu_device.cc:1928] Created device /device:GPU:0 with 78659 MB memory:  -> device: 0, name: NVIDIA A100 80GB PCIe, pci bus id: 0000:04:00.0, compute capability: 8.0\n",
            "2024-06-25 17:18:00.264266: I external/local_xla/xla/stream_executor/cuda/cuda_executor.cc:998] successful NUMA node read from SysFS had negative value (-1), but there must be at least one NUMA node, so returning NUMA node zero. See more at https://github.com/torvalds/linux/blob/v6.0/Documentation/ABI/testing/sysfs-bus-pci#L344-L355\n",
            "2024-06-25 17:18:00.265433: I tensorflow/core/common_runtime/gpu/gpu_device.cc:1928] Created device /device:GPU:1 with 78659 MB memory:  -> device: 1, name: NVIDIA A100 80GB PCIe, pci bus id: 0000:0c:00.0, compute capability: 8.0\n"
          ]
        }
      ],
      "source": [
        "#Make sure the GPU is available. \n",
        "import tensorflow as tf\n",
        "device_name = tf.test.gpu_device_name()"
      ]
    },
    {
      "cell_type": "code",
      "execution_count": 3,
      "metadata": {
        "id": "45aZsgManbdG"
      },
      "outputs": [
        {
          "name": "stdout",
          "output_type": "stream",
          "text": [
            "Found GPU at: /device:GPU:0\n"
          ]
        },
        {
          "name": "stderr",
          "output_type": "stream",
          "text": [
            "2024-06-25 17:18:00.661719: I external/local_xla/xla/stream_executor/cuda/cuda_executor.cc:998] successful NUMA node read from SysFS had negative value (-1), but there must be at least one NUMA node, so returning NUMA node zero. See more at https://github.com/torvalds/linux/blob/v6.0/Documentation/ABI/testing/sysfs-bus-pci#L344-L355\n",
            "2024-06-25 17:18:00.663049: I external/local_xla/xla/stream_executor/cuda/cuda_executor.cc:998] successful NUMA node read from SysFS had negative value (-1), but there must be at least one NUMA node, so returning NUMA node zero. See more at https://github.com/torvalds/linux/blob/v6.0/Documentation/ABI/testing/sysfs-bus-pci#L344-L355\n",
            "2024-06-25 17:18:00.664314: I external/local_xla/xla/stream_executor/cuda/cuda_executor.cc:998] successful NUMA node read from SysFS had negative value (-1), but there must be at least one NUMA node, so returning NUMA node zero. See more at https://github.com/torvalds/linux/blob/v6.0/Documentation/ABI/testing/sysfs-bus-pci#L344-L355\n",
            "2024-06-25 17:18:00.665542: I external/local_xla/xla/stream_executor/cuda/cuda_executor.cc:998] successful NUMA node read from SysFS had negative value (-1), but there must be at least one NUMA node, so returning NUMA node zero. See more at https://github.com/torvalds/linux/blob/v6.0/Documentation/ABI/testing/sysfs-bus-pci#L344-L355\n",
            "2024-06-25 17:18:00.666737: I external/local_xla/xla/stream_executor/cuda/cuda_executor.cc:998] successful NUMA node read from SysFS had negative value (-1), but there must be at least one NUMA node, so returning NUMA node zero. See more at https://github.com/torvalds/linux/blob/v6.0/Documentation/ABI/testing/sysfs-bus-pci#L344-L355\n",
            "2024-06-25 17:18:00.667938: I external/local_xla/xla/stream_executor/cuda/cuda_executor.cc:998] successful NUMA node read from SysFS had negative value (-1), but there must be at least one NUMA node, so returning NUMA node zero. See more at https://github.com/torvalds/linux/blob/v6.0/Documentation/ABI/testing/sysfs-bus-pci#L344-L355\n",
            "2024-06-25 17:18:00.669232: I external/local_xla/xla/stream_executor/cuda/cuda_executor.cc:998] successful NUMA node read from SysFS had negative value (-1), but there must be at least one NUMA node, so returning NUMA node zero. See more at https://github.com/torvalds/linux/blob/v6.0/Documentation/ABI/testing/sysfs-bus-pci#L344-L355\n",
            "2024-06-25 17:18:00.670428: I external/local_xla/xla/stream_executor/cuda/cuda_executor.cc:998] successful NUMA node read from SysFS had negative value (-1), but there must be at least one NUMA node, so returning NUMA node zero. See more at https://github.com/torvalds/linux/blob/v6.0/Documentation/ABI/testing/sysfs-bus-pci#L344-L355\n",
            "2024-06-25 17:18:00.671609: I external/local_xla/xla/stream_executor/cuda/cuda_executor.cc:998] successful NUMA node read from SysFS had negative value (-1), but there must be at least one NUMA node, so returning NUMA node zero. See more at https://github.com/torvalds/linux/blob/v6.0/Documentation/ABI/testing/sysfs-bus-pci#L344-L355\n",
            "2024-06-25 17:18:00.672775: I tensorflow/core/common_runtime/gpu/gpu_device.cc:1928] Created device /device:GPU:0 with 78659 MB memory:  -> device: 0, name: NVIDIA A100 80GB PCIe, pci bus id: 0000:04:00.0, compute capability: 8.0\n",
            "2024-06-25 17:18:00.672852: I external/local_xla/xla/stream_executor/cuda/cuda_executor.cc:998] successful NUMA node read from SysFS had negative value (-1), but there must be at least one NUMA node, so returning NUMA node zero. See more at https://github.com/torvalds/linux/blob/v6.0/Documentation/ABI/testing/sysfs-bus-pci#L344-L355\n",
            "2024-06-25 17:18:00.673996: I tensorflow/core/common_runtime/gpu/gpu_device.cc:1928] Created device /device:GPU:1 with 78659 MB memory:  -> device: 1, name: NVIDIA A100 80GB PCIe, pci bus id: 0000:0c:00.0, compute capability: 8.0\n"
          ]
        }
      ],
      "source": [
        "#Make sure the GPU is available. \n",
        "import tensorflow as tf\n",
        "device_name = tf.test.gpu_device_name()\n",
        "if device_name != '/device:GPU:0':\n",
        "  raise SystemError('GPU device not found')\n",
        "print('Found GPU at: {}'.format(device_name))"
      ]
    },
    {
      "cell_type": "code",
      "execution_count": 4,
      "metadata": {
        "id": "Dr4Is2DRMMer"
      },
      "outputs": [
        {
          "name": "stdout",
          "output_type": "stream",
          "text": [
            "Segmentation Models: using `tf.keras` framework.\n"
          ]
        }
      ],
      "source": [
        "import segmentation_models_3D as sm\n"
      ]
    },
    {
      "cell_type": "code",
      "execution_count": 5,
      "metadata": {
        "id": "d7hKivzw-0V9"
      },
      "outputs": [],
      "source": [
        "from skimage import io\n",
        "from patchify import patchify, unpatchify\n",
        "import numpy as np\n",
        "from matplotlib import pyplot as plt\n",
        "from keras import backend as K\n",
        "from keras.utils import to_categorical\n",
        "from sklearn.model_selection import train_test_split"
      ]
    },
    {
      "cell_type": "code",
      "execution_count": 47,
      "metadata": {},
      "outputs": [],
      "source": [
        "num_epochs = 1500\n",
        "\n",
        "\n",
        "vista_crop_dict = { 0:'NA' , 1: 'ALFALFA', 2: 'BEET', 3: 'CLOVER', 4: 'FLAX', 5: 'FLOWERING_LEGUMES', 6: 'FLOWERS', 7: 'FOREST', 8: 'GRAIN_MAIZE', 9: 'GRASSLAND', 10: 'HOPS', 11: 'LEGUMES', 12: 'NA', 13: 'PERMANENT_PLANTATIONS', 14: 'PLASTIC', 15: 'POTATO', 16: 'PUMPKIN', 17: 'RICE', 18: 'SILAGE_MAIZE', 19: 'SOY', 20: 'SPRING_BARLEY', 21: 'SPRING_OAT', 22: 'SPRING_OTHER_CEREALS', 23: 'SPRING_RAPESEED', 24: 'SPRING_RYE', 25: 'SPRING_SORGHUM', 26: 'SPRING_SPELT', 27: 'SPRING_TRITICALE', 28: 'SPRING_WHEAT', 29: 'SUGARBEET', 30: 'SUNFLOWER', 31: 'SWEET_POTATOES', 32: 'TEMPORARY_GRASSLAND', 33: 'WINTER_BARLEY', 34: 'WINTER_OAT', 35: 'WINTER_OTHER_CEREALS', 36: 'WINTER_RAPESEED', 37: 'WINTER_RYE', 38: 'WINTER_SORGHUM', 39: 'WINTER_SPELT', 40: 'WINTER_TRITICALE', 41: 'WINTER_WHEAT'}"
      ]
    },
    {
      "cell_type": "code",
      "execution_count": 48,
      "metadata": {},
      "outputs": [],
      "source": [
        "labels = np.load('/home/luser/stelar_3d/storage/full_mast/vista_labes_aligned.npy').astype(np.uint8)\n"
      ]
    },
    {
      "cell_type": "code",
      "execution_count": 49,
      "metadata": {},
      "outputs": [
        {
          "data": {
            "text/plain": [
              "(array([ 0,  1,  2,  3,  4,  5,  7,  8,  9, 10, 11, 12, 13, 14, 15, 16, 18,\n",
              "        19, 20, 21, 23, 27, 28, 30, 32, 33, 34, 35, 36, 37, 40, 41],\n",
              "       dtype=uint8),\n",
              " array([61307860,  1106626,   146323,   143701,     7143,     3025,\n",
              "          205807,  4566575,  7400638,       72,   924407,   458142,\n",
              "         8427517,    18792,    60594,     9681,   676780,  1376503,\n",
              "           31686,     6077,     2623,     2499,     8633,  3142945,\n",
              "         1564605,   791290,    87956,     1016,  1003306,    16938,\n",
              "          444574,  6095670]))"
            ]
          },
          "execution_count": 49,
          "metadata": {},
          "output_type": "execute_result"
        }
      ],
      "source": [
        "unique_elements, element_counts = np.unique(labels, return_counts=True)\n",
        "unique_elements, element_counts"
      ]
    },
    {
      "cell_type": "code",
      "execution_count": 74,
      "metadata": {},
      "outputs": [],
      "source": [
        "# consider ALFALFA\n",
        "\n",
        "x_inds = np.where(labels==27)[0]\n",
        "y_inds = np.where(labels==27)[1]\n",
        "\n",
        "\n",
        "unique_x_inds = np.unique(x_inds)\n",
        "unique_y_inds = np.unique(y_inds)"
      ]
    },
    {
      "cell_type": "code",
      "execution_count": 75,
      "metadata": {},
      "outputs": [
        {
          "data": {
            "text/plain": [
              "((2499,), (2499,))"
            ]
          },
          "execution_count": 75,
          "metadata": {},
          "output_type": "execute_result"
        }
      ],
      "source": [
        "x_inds.shape, y_inds.shape"
      ]
    },
    {
      "cell_type": "code",
      "execution_count": 52,
      "metadata": {},
      "outputs": [
        {
          "data": {
            "text/plain": [
              "(array([ 328,  329,  330,  331,  332,  333,  334,  335,  336,  337,  338,\n",
              "         339,  340,  341,  342,  343,  344,  345,  346,  347,  348,  349,\n",
              "         350,  351,  352,  353,  354,  355,  356,  357,  358,  359,  360,\n",
              "         361,  362,  363,  364,  365,  366,  367,  461,  462,  463,  464,\n",
              "         465,  466,  467,  468,  469,  470,  471,  472,  473,  474,  475,\n",
              "         476,  477,  478, 3181, 3182, 3183, 3184, 3185, 3186, 3187, 3188,\n",
              "        3189, 3190, 3191, 3192, 3193, 3194, 3195, 3196, 3197, 3198, 3199,\n",
              "        3200, 3201, 3202, 4505, 4506, 4507, 4508, 4509, 4510, 4511, 4512,\n",
              "        4513, 4514, 4515, 4516, 4517, 4518, 4519, 4520, 4521, 4522, 4523,\n",
              "        4524, 4525, 4526, 4527, 4528, 4529, 4530, 4531, 4532, 4533, 4534,\n",
              "        4535, 4536, 4537, 4538, 4539, 4540, 4541, 4542, 4548, 4549, 4550,\n",
              "        4551, 4552, 4553, 4554, 4555, 4556, 4557, 4558, 4559, 4560, 4561,\n",
              "        4562, 4563, 4564, 4565, 4566, 4567, 4568, 6370, 6371, 6372, 6373,\n",
              "        6374, 6375, 6376, 6377, 6378, 6379, 6380, 6381, 6382, 6383, 6384,\n",
              "        6385, 6386, 6387, 6388, 6389, 6390, 6391, 6392, 6393, 6394, 6395,\n",
              "        6396, 6397, 6398, 6399, 6400, 6401, 6402, 9095, 9096, 9097, 9098,\n",
              "        9099, 9100, 9101, 9102, 9103, 9104, 9105, 9106, 9108, 9109, 9110,\n",
              "        9111, 9112, 9113, 9114, 9115, 9116]),\n",
              " array([2739, 2740, 2741, 2742, 2743, 2744, 2745, 2746, 2747, 2748, 2749,\n",
              "        2750, 2751, 2752, 2753, 3790, 3791, 3792, 3793, 3794, 3795, 3796,\n",
              "        3797, 3798, 3799, 5078, 5079, 5080, 5081, 5082, 5083, 5084, 5085,\n",
              "        5086, 5087, 5142, 5143, 5144, 5145, 5146, 5147, 5148, 5149, 5150,\n",
              "        5151, 5152, 5153, 5154, 5155, 5156, 5157, 5158, 5159, 5160, 5161,\n",
              "        5162, 5163, 5164, 5165, 5166, 5167, 5168, 5169, 5170, 5171, 5172,\n",
              "        5173, 5174, 5175, 5176, 5177, 5178, 5179, 5180, 5181, 5182, 5183,\n",
              "        5236, 5237, 5238, 5239, 5240, 5241, 5242, 5243, 5244, 5245, 5246,\n",
              "        5247, 5248, 5249, 5250, 5251, 5252, 5253, 5254, 5255, 5256, 5257,\n",
              "        5258, 5259, 5260, 5261, 5262, 5263, 9398, 9399, 9400, 9401, 9402,\n",
              "        9403, 9404, 9405, 9406, 9407, 9408, 9409, 9410, 9411, 9412, 9413,\n",
              "        9414, 9415, 9416, 9417, 9418, 9419, 9420, 9421, 9422, 9423, 9424,\n",
              "        9425, 9426, 9427, 9428, 9429, 9430, 9431, 9432, 9433, 9434, 9861,\n",
              "        9862, 9863, 9864, 9865, 9866, 9867, 9868, 9869, 9870, 9871, 9872,\n",
              "        9873, 9874, 9875, 9876]))"
            ]
          },
          "execution_count": 52,
          "metadata": {},
          "output_type": "execute_result"
        }
      ],
      "source": [
        "unique_x_inds, unique_y_inds"
      ]
    },
    {
      "cell_type": "code",
      "execution_count": 53,
      "metadata": {},
      "outputs": [
        {
          "name": "stdout",
          "output_type": "stream",
          "text": [
            "[  5   5   5   5   5   5   5   5   5   5   5   5   5   5   5   5   5   5\n",
            "   5   5   5   5   5   5   5   5   5   5   5   5   5   5   5   5   5   5\n",
            "   5   5   5   5   7   7   7   7   7   7   7   7   7   7   7   7   7   7\n",
            "   7   7   7   7  49  49  49  49  49  49  49  49  49  49  49  49  49  49\n",
            "  49  49  49  49  49  50  50  50  70  70  70  70  70  70  70  70  70  70\n",
            "  70  70  70  70  70  70  70  70  70  70  70  70  70  70  70  70  70  70\n",
            "  70  70  70  70  70  70  70  70  70  70  71  71  71  71  71  71  71  71\n",
            "  71  71  71  71  71  71  71  71  71  71  71  71  71  99  99  99  99  99\n",
            "  99  99  99  99  99  99  99  99  99  99  99  99  99  99  99  99  99  99\n",
            "  99  99  99  99  99  99  99 100 100 100 142 142 142 142 142 142 142 142\n",
            " 142 142 142 142 142 142 142 142 142 142 142 142 142]\n",
            "[ 42  42  42  42  42  42  42  42  42  42  42  42  42  43  43  59  59  59\n",
            "  59  59  59  59  59  59  59  79  79  79  79  79  79  79  79  79  79  80\n",
            "  80  80  80  80  80  80  80  80  80  80  80  80  80  80  80  80  80  80\n",
            "  80  80  80  80  80  80  80  80  80  80  80  80  80  80  80  80  80  80\n",
            "  80  80  80  80  80  81  81  81  81  81  81  81  81  81  81  81  81  82\n",
            "  82  82  82  82  82  82  82  82  82  82  82  82  82  82  82 146 146 146\n",
            " 146 146 146 146 146 146 146 147 147 147 147 147 147 147 147 147 147 147\n",
            " 147 147 147 147 147 147 147 147 147 147 147 147 147 147 147 147 154 154\n",
            " 154 154 154 154 154 154 154 154 154 154 154 154 154 154]\n"
          ]
        }
      ],
      "source": [
        "unique_x_quotient_inds = (unique_x_inds)//64\n",
        "\n",
        "print(unique_x_quotient_inds)\n",
        "\n",
        "unique_unique_x_quotient_inds = np.unique(unique_x_quotient_inds)\n",
        "\n",
        "\n",
        "unique_y_quotient_inds = (unique_y_inds)//64\n",
        "\n",
        "print(unique_y_quotient_inds)\n",
        "\n",
        "unique_unique_y_quotient_inds = np.unique(unique_y_quotient_inds)"
      ]
    },
    {
      "cell_type": "code",
      "execution_count": 54,
      "metadata": {},
      "outputs": [
        {
          "data": {
            "text/plain": [
              "(array([  5,   7,  49,  50,  70,  71,  99, 100, 142]),\n",
              " array([ 42,  43,  59,  79,  80,  81,  82, 146, 147, 154]))"
            ]
          },
          "execution_count": 54,
          "metadata": {},
          "output_type": "execute_result"
        }
      ],
      "source": [
        "unique_unique_x_quotient_inds, unique_unique_y_quotient_inds"
      ]
    },
    {
      "cell_type": "code",
      "execution_count": 55,
      "metadata": {},
      "outputs": [
        {
          "data": {
            "text/plain": [
              "(array([ 320,  448, 3136, 3200, 4480, 4544, 6336, 6400, 9088]),\n",
              " array([2688, 2752, 3776, 5056, 5120, 5184, 5248, 9344, 9408, 9856]))"
            ]
          },
          "execution_count": 55,
          "metadata": {},
          "output_type": "execute_result"
        }
      ],
      "source": [
        "#box origins\n",
        "\n",
        "unique_unique_x_quotient_inds * 64 , unique_unique_y_quotient_inds * 64\n",
        "\n",
        "box_x_origins = unique_unique_x_quotient_inds * 64\n",
        "box_y_origins = unique_unique_y_quotient_inds * 64\n",
        "\n",
        "\n",
        "box_x_origins, box_y_origins"
      ]
    },
    {
      "cell_type": "code",
      "execution_count": 60,
      "metadata": {},
      "outputs": [
        {
          "data": {
            "text/plain": [
              "(array([ 384,  512, 3200, 3264, 4544, 4608, 6400, 6464, 9152]),\n",
              " array([2752, 2816, 3840, 5120, 5184, 5248, 5312, 9408, 9472, 9920]))"
            ]
          },
          "execution_count": 60,
          "metadata": {},
          "output_type": "execute_result"
        }
      ],
      "source": [
        "#box ends\n",
        "\n",
        "#unique_unique_x_quotient_inds * 64 + 64, unique_unique_y_quotient_inds * 64 + 64\n",
        "\n",
        "\n",
        "box_x_ends = unique_unique_x_quotient_inds * 64 + 64\n",
        "box_y_ends = unique_unique_y_quotient_inds * 64 + 64\n",
        "\n",
        "box_x_ends, box_y_ends"
      ]
    },
    {
      "cell_type": "code",
      "execution_count": 66,
      "metadata": {},
      "outputs": [],
      "source": [
        "test_patch = labels[box_x_origins[0]:box_x_ends[0], box_y_origins[2]:box_y_ends[2]]"
      ]
    },
    {
      "cell_type": "code",
      "execution_count": 67,
      "metadata": {},
      "outputs": [
        {
          "data": {
            "text/plain": [
              "<matplotlib.image.AxesImage at 0x7999c01696c0>"
            ]
          },
          "execution_count": 67,
          "metadata": {},
          "output_type": "execute_result"
        },
        {
          "data": {
            "image/png": "[encoded data removed]",
            "text/plain": [
              "<Figure size 640x480 with 1 Axes>"
            ]
          },
          "metadata": {},
          "output_type": "display_data"
        }
      ],
      "source": [
        "plt.imshow(test_patch)"
      ]
    },
    {
      "cell_type": "code",
      "execution_count": 68,
      "metadata": {},
      "outputs": [
        {
          "data": {
            "text/plain": [
              "array([ 0,  8,  9, 41], dtype=uint8)"
            ]
          },
          "execution_count": 68,
          "metadata": {},
          "output_type": "execute_result"
        }
      ],
      "source": [
        "np.unique(test_patch)"
      ]
    },
    {
      "cell_type": "code",
      "execution_count": null,
      "metadata": {},
      "outputs": [],
      "source": []
    },
    {
      "cell_type": "code",
      "execution_count": null,
      "metadata": {},
      "outputs": [],
      "source": []
    },
    {
      "cell_type": "code",
      "execution_count": null,
      "metadata": {},
      "outputs": [],
      "source": []
    },
    {
      "cell_type": "code",
      "execution_count": null,
      "metadata": {},
      "outputs": [],
      "source": []
    },
    {
      "cell_type": "code",
      "execution_count": null,
      "metadata": {},
      "outputs": [],
      "source": []
    },
    {
      "cell_type": "code",
      "execution_count": null,
      "metadata": {},
      "outputs": [],
      "source": []
    },
    {
      "cell_type": "code",
      "execution_count": null,
      "metadata": {},
      "outputs": [],
      "source": []
    },
    {
      "cell_type": "code",
      "execution_count": null,
      "metadata": {},
      "outputs": [],
      "source": []
    },
    {
      "cell_type": "code",
      "execution_count": 15,
      "metadata": {},
      "outputs": [
        {
          "name": "stdout",
          "output_type": "stream",
          "text": [
            "5\n",
            "7\n",
            "49\n",
            "50\n",
            "70\n",
            "71\n",
            "99\n",
            "100\n",
            "142\n"
          ]
        }
      ],
      "source": [
        "for a in unique_unique_x_quotient_inds:\n",
        "    print(a)"
      ]
    },
    {
      "cell_type": "code",
      "execution_count": 38,
      "metadata": {},
      "outputs": [
        {
          "data": {
            "text/plain": [
              "array([ 6,  7,  8, ...,  9, 10, 11])"
            ]
          },
          "execution_count": 38,
          "metadata": {},
          "output_type": "execute_result"
        }
      ],
      "source": [
        "unique_x_inds%64"
      ]
    },
    {
      "cell_type": "code",
      "execution_count": 44,
      "metadata": {},
      "outputs": [
        {
          "data": {
            "text/plain": [
              "array([   6,    7,    8, ..., 9993, 9994, 9995])"
            ]
          },
          "execution_count": 44,
          "metadata": {},
          "output_type": "execute_result"
        }
      ],
      "source": [
        "((unique_x_inds//64)* 64)+ (unique_x_inds%64)"
      ]
    },
    {
      "cell_type": "code",
      "execution_count": 31,
      "metadata": {},
      "outputs": [
        {
          "data": {
            "text/plain": [
              "(array([ 6,  6,  7, ..., 69, 69, 69]),\n",
              " array([8042, 8043, 8040, ..., 6525, 6526, 6527]))"
            ]
          },
          "execution_count": 31,
          "metadata": {},
          "output_type": "execute_result"
        }
      ],
      "source": [
        "x_inds[x_inds<6+64], y_inds[x_inds<6+64]"
      ]
    },
    {
      "cell_type": "code",
      "execution_count": 32,
      "metadata": {},
      "outputs": [
        {
          "data": {
            "text/plain": [
              "<matplotlib.collections.PathCollection at 0x7fbe68b6b490>"
            ]
          },
          "execution_count": 32,
          "metadata": {},
          "output_type": "execute_result"
        },
        {
          "data": {
            "image/png": "[encoded data removed]",
            "text/plain": [
              "<Figure size 640x480 with 1 Axes>"
            ]
          },
          "metadata": {},
          "output_type": "display_data"
        }
      ],
      "source": [
        "plt.scatter(x_inds[x_inds<6+64], y_inds[x_inds<6+64])"
      ]
    },
    {
      "cell_type": "code",
      "execution_count": 19,
      "metadata": {},
      "outputs": [
        {
          "data": {
            "text/plain": [
              "<matplotlib.collections.PathCollection at 0x7fbf53f4a010>"
            ]
          },
          "execution_count": 19,
          "metadata": {},
          "output_type": "execute_result"
        },
        {
          "data": {
            "image/png": "[encoded data removed]",
            "text/plain": [
              "<Figure size 640x480 with 1 Axes>"
            ]
          },
          "metadata": {},
          "output_type": "display_data"
        }
      ],
      "source": [
        "plt.scatter(x_inds, y_inds)"
      ]
    },
    {
      "cell_type": "code",
      "execution_count": 10,
      "metadata": {},
      "outputs": [],
      "source": [
        "sorted_indices = np.argsort(-element_counts)\n"
      ]
    },
    {
      "cell_type": "code",
      "execution_count": 11,
      "metadata": {},
      "outputs": [],
      "source": [
        "\n",
        "# Arrange unique elements and their counts in descending order\n",
        "unique_elements_sorted = unique_elements[sorted_indices]\n",
        "element_counts_sorted = element_counts[sorted_indices]"
      ]
    },
    {
      "cell_type": "code",
      "execution_count": 13,
      "metadata": {},
      "outputs": [
        {
          "data": {
            "text/plain": [
              "(array([61307860,  8427517,  7400638,  6095670,  4566575,  3142945,\n",
              "         1564605,  1376503,  1106626,  1003306,   924407,   791290,\n",
              "          676780,   458142,   444574,   205807,   146323,   143701,\n",
              "           87956,    60594,    31686,    18792,    16938,     9681,\n",
              "            8633,     7143,     6077,     3025,     2623,     2499,\n",
              "            1016,       72]),\n",
              " array([ 0, 13,  9, 41,  8, 30, 32, 19,  1, 36, 11, 33, 18, 12, 40,  7,  2,\n",
              "         3, 34, 15, 20, 14, 37, 16, 28,  4, 21,  5, 23, 27, 35, 10],\n",
              "       dtype=uint8))"
            ]
          },
          "execution_count": 13,
          "metadata": {},
          "output_type": "execute_result"
        }
      ],
      "source": [
        "element_counts_sorted, unique_elements_sorted"
      ]
    }
  ],
  "metadata": {
    "accelerator": "GPU",
    "colab": {
      "collapsed_sections": [],
      "name": "3D_Unet.ipynb",
      "provenance": []
    },
    "kernelspec": {
      "display_name": "Python 3 (ipykernel)",
      "language": "python",
      "name": "python3"
    },
    "language_info": {
      "codemirror_mode": {
        "name": "ipython",
        "version": 3
      },
      "file_extension": ".py",
      "mimetype": "text/x-python",
      "name": "python",
      "nbconvert_exporter": "python",
      "pygments_lexer": "ipython3",
      "version": "3.10.12"
    }
  },
  "nbformat": 4,
  "nbformat_minor": 0
}
