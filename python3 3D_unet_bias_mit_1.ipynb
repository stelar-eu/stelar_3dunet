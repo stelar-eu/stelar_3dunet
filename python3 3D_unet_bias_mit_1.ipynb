{
 "cells": [
  {
   "cell_type": "code",
   "execution_count": 1,
   "metadata": {},
   "outputs": [],
   "source": [
    "#from functions import extract_LAI_from_RAS_file, explore_image, extract_all_LAI_from_RAS_file\n",
    "import matplotlib.pyplot as plt\n",
    "#import torch\n",
    "import numpy as np\n",
    "#datapath = './dataset/france/lai_ras/'\n",
    "import random\n",
    "import glob\n",
    "import tifffile\n",
    "filepaths = glob.glob('/home/luser/UniBw-STELAR/dataset/france2/processed_lai_npy/*.npy')\n",
    "filepaths.sort()"
   ]
  },
  {
   "cell_type": "code",
   "execution_count": 2,
   "metadata": {},
   "outputs": [],
   "source": [
    "import torch\n",
    "device = torch.device(\"cuda\")# if torch.cuda.is_available() else \"cpu\")\n",
    "\n",
    "vista_crop_dict = { 0:'NA' , 1: 'ALFALFA', 2: 'BEET', 3: 'CLOVER', 4: 'FLAX', 5: 'FLOWERING_LEGUMES', 6: 'FLOWERS', 7: 'FOREST', 8: 'GRAIN_MAIZE', 9: 'GRASSLAND', 10: 'HOPS', 11: 'LEGUMES', 12: 'VISTA_NA', 13: 'PERMANENT_PLANTATIONS', 14: 'PLASTIC', 15: 'POTATO', 16: 'PUMPKIN', 17: 'RICE', 18: 'SILAGE_MAIZE', 19: 'SOY', 20: 'SPRING_BARLEY', 21: 'SPRING_OAT', 22: 'SPRING_OTHER_CEREALS', 23: 'SPRING_RAPESEED', 24: 'SPRING_RYE', 25: 'SPRING_SORGHUM', 26: 'SPRING_SPELT', 27: 'SPRING_TRITICALE', 28: 'SPRING_WHEAT', 29: 'SUGARBEET', 30: 'SUNFLOWER', 31: 'SWEET_POTATOES', 32: 'TEMPORARY_GRASSLAND', 33: 'WINTER_BARLEY', 34: 'WINTER_OAT', 35: 'WINTER_OTHER_CEREALS', 36: 'WINTER_RAPESEED', 37: 'WINTER_RYE', 38: 'WINTER_SORGHUM', 39: 'WINTER_SPELT', 40: 'WINTER_TRITICALE', 41: 'WINTER_WHEAT'}"
   ]
  },
  {
   "cell_type": "code",
   "execution_count": 4,
   "metadata": {},
   "outputs": [
    {
     "name": "stdout",
     "output_type": "stream",
     "text": [
      "vista_crop_dict[chosen_crop_types] ALFALFA\n"
     ]
    }
   ],
   "source": [
    "chosen_crop_types = 1\n",
    "print(\"vista_crop_dict[chosen_crop_types]\", vista_crop_dict[chosen_crop_types])\n"
   ]
  },
  {
   "cell_type": "code",
   "execution_count": 37,
   "metadata": {},
   "outputs": [
    {
     "name": "stdout",
     "output_type": "stream",
     "text": [
      "len(x_inds) 1106626\n",
      "len(y_inds) 1106626\n"
     ]
    }
   ],
   "source": [
    "per_crop_spatio_temporal_data_size = 850\n",
    "labels = np.load('/home/luser/stelar_3d/storage/full_mast/vista_labes_aligned.npy').astype(np.uint8)\n",
    "x_inds, y_inds = np.where(labels==chosen_crop_types)\n",
    "\n",
    "print(\"len(x_inds)\", len(x_inds))\n",
    "print(\"len(y_inds)\", len(y_inds))"
   ]
  },
  {
   "cell_type": "code",
   "execution_count": 41,
   "metadata": {},
   "outputs": [
    {
     "data": {
      "text/plain": [
       "(array([   6,    6,    7, ..., 9995, 9995, 9995]),\n",
       " array([8042, 8043, 8040, ..., 7110, 7111, 7112]))"
      ]
     },
     "execution_count": 41,
     "metadata": {},
     "output_type": "execute_result"
    }
   ],
   "source": [
    "x_inds, y_inds"
   ]
  },
  {
   "cell_type": "code",
   "execution_count": 43,
   "metadata": {},
   "outputs": [
    {
     "data": {
      "text/plain": [
       "1106625"
      ]
     },
     "execution_count": 43,
     "metadata": {},
     "output_type": "execute_result"
    }
   ],
   "source": [
    "random_corner = len(x_inds)-1\n",
    "random_corner"
   ]
  },
  {
   "cell_type": "code",
   "execution_count": 48,
   "metadata": {},
   "outputs": [
    {
     "data": {
      "text/plain": [
       "9995"
      ]
     },
     "execution_count": 48,
     "metadata": {},
     "output_type": "execute_result"
    }
   ],
   "source": [
    "x_corner = x_inds[random_corner]\n",
    "x_corner"
   ]
  },
  {
   "cell_type": "code",
   "execution_count": 52,
   "metadata": {},
   "outputs": [
    {
     "name": "stdout",
     "output_type": "stream",
     "text": [
      "9925\n",
      "9989\n"
     ]
    }
   ],
   "source": [
    "if(x_corner > labels.shape[0]-70):\n",
    "    x_corner = x_corner-70\n",
    "\n",
    "print(x_corner)\n",
    "print(x_corner+64)"
   ]
  },
  {
   "cell_type": "code",
   "execution_count": 31,
   "metadata": {},
   "outputs": [
    {
     "name": "stdout",
     "output_type": "stream",
     "text": [
      "time_strip_ind 179\n",
      "len(considered_filepaths) 64\n",
      "random_corner 1106625\n",
      "temporal_batches.shape torch.Size([1, 64, 64, 64])\n",
      "spatial_label_batches.shape torch.Size([1, 64, 64])\n",
      "time_strip_ind 179\n",
      "len(considered_filepaths) 64\n",
      "random_corner 1106625\n",
      "temporal_batches.shape torch.Size([2, 64, 64, 64])\n",
      "spatial_label_batches.shape torch.Size([2, 64, 64])\n",
      "time_strip_ind 196\n",
      "len(considered_filepaths) 64\n",
      "random_corner 1106625\n",
      "temporal_batches.shape torch.Size([3, 64, 64, 64])\n",
      "spatial_label_batches.shape torch.Size([3, 64, 64])\n",
      "time_strip_ind 52\n",
      "len(considered_filepaths) 64\n",
      "random_corner 1106625\n",
      "temporal_batches.shape torch.Size([4, 64, 64, 64])\n",
      "spatial_label_batches.shape torch.Size([4, 64, 64])\n",
      "time_strip_ind 75\n",
      "len(considered_filepaths) 64\n",
      "random_corner 1106625\n",
      "temporal_batches.shape torch.Size([5, 64, 64, 64])\n",
      "spatial_label_batches.shape torch.Size([5, 64, 64])\n",
      "time_strip_ind 12\n",
      "len(considered_filepaths) 64\n",
      "random_corner 1106625\n",
      "temporal_batches.shape torch.Size([6, 64, 64, 64])\n",
      "spatial_label_batches.shape torch.Size([6, 64, 64])\n",
      "time_strip_ind 113\n",
      "len(considered_filepaths) 64\n",
      "random_corner 1106625\n",
      "temporal_batches.shape torch.Size([7, 64, 64, 64])\n",
      "spatial_label_batches.shape torch.Size([7, 64, 64])\n",
      "time_strip_ind 31\n",
      "len(considered_filepaths) 64\n",
      "random_corner 1106625\n",
      "temporal_batches.shape torch.Size([8, 64, 64, 64])\n",
      "spatial_label_batches.shape torch.Size([8, 64, 64])\n",
      "time_strip_ind 27\n",
      "len(considered_filepaths) 64\n",
      "random_corner 1106625\n",
      "temporal_batches.shape torch.Size([9, 64, 64, 64])\n",
      "spatial_label_batches.shape torch.Size([9, 64, 64])\n",
      "time_strip_ind 87\n",
      "len(considered_filepaths) 64\n",
      "random_corner 1106625\n"
     ]
    },
    {
     "ename": "KeyboardInterrupt",
     "evalue": "",
     "output_type": "error",
     "traceback": [
      "\u001b[0;31m---------------------------------------------------------------------------\u001b[0m",
      "\u001b[0;31mKeyboardInterrupt\u001b[0m                         Traceback (most recent call last)",
      "Cell \u001b[0;32mIn[31], line 29\u001b[0m\n\u001b[1;32m     27\u001b[0m spatial_label_batches \u001b[38;5;241m=\u001b[39m torch\u001b[38;5;241m.\u001b[39mcat((spatial_label_batches, space_label\u001b[38;5;241m.\u001b[39munsqueeze(\u001b[38;5;241m0\u001b[39m)), axis\u001b[38;5;241m=\u001b[39m\u001b[38;5;241m0\u001b[39m)\n\u001b[1;32m     28\u001b[0m \u001b[38;5;28;01mfor\u001b[39;00m filepath \u001b[38;5;129;01min\u001b[39;00m considered_filepaths:\n\u001b[0;32m---> 29\u001b[0m     numpy_array \u001b[38;5;241m=\u001b[39m \u001b[43mnp\u001b[49m\u001b[38;5;241;43m.\u001b[39;49m\u001b[43mload\u001b[49m\u001b[43m(\u001b[49m\u001b[43mfilepath\u001b[49m\u001b[43m)\u001b[49m\n\u001b[1;32m     30\u001b[0m     torch_tensor \u001b[38;5;241m=\u001b[39m torch\u001b[38;5;241m.\u001b[39mfrom_numpy(numpy_array)\u001b[38;5;241m.\u001b[39mto(device)\n\u001b[1;32m     31\u001b[0m     numpy_array \u001b[38;5;241m=\u001b[39m \u001b[38;5;241m0.0\u001b[39m\n",
      "File \u001b[0;32m~/anaconda3/envs/inn/lib/python3.9/site-packages/numpy/lib/npyio.py:456\u001b[0m, in \u001b[0;36mload\u001b[0;34m(file, mmap_mode, allow_pickle, fix_imports, encoding, max_header_size)\u001b[0m\n\u001b[1;32m    453\u001b[0m         \u001b[38;5;28;01mreturn\u001b[39;00m \u001b[38;5;28mformat\u001b[39m\u001b[38;5;241m.\u001b[39mopen_memmap(file, mode\u001b[38;5;241m=\u001b[39mmmap_mode,\n\u001b[1;32m    454\u001b[0m                                   max_header_size\u001b[38;5;241m=\u001b[39mmax_header_size)\n\u001b[1;32m    455\u001b[0m     \u001b[38;5;28;01melse\u001b[39;00m:\n\u001b[0;32m--> 456\u001b[0m         \u001b[38;5;28;01mreturn\u001b[39;00m \u001b[38;5;28;43mformat\u001b[39;49m\u001b[38;5;241;43m.\u001b[39;49m\u001b[43mread_array\u001b[49m\u001b[43m(\u001b[49m\u001b[43mfid\u001b[49m\u001b[43m,\u001b[49m\u001b[43m \u001b[49m\u001b[43mallow_pickle\u001b[49m\u001b[38;5;241;43m=\u001b[39;49m\u001b[43mallow_pickle\u001b[49m\u001b[43m,\u001b[49m\n\u001b[1;32m    457\u001b[0m \u001b[43m                                 \u001b[49m\u001b[43mpickle_kwargs\u001b[49m\u001b[38;5;241;43m=\u001b[39;49m\u001b[43mpickle_kwargs\u001b[49m\u001b[43m,\u001b[49m\n\u001b[1;32m    458\u001b[0m \u001b[43m                                 \u001b[49m\u001b[43mmax_header_size\u001b[49m\u001b[38;5;241;43m=\u001b[39;49m\u001b[43mmax_header_size\u001b[49m\u001b[43m)\u001b[49m\n\u001b[1;32m    459\u001b[0m \u001b[38;5;28;01melse\u001b[39;00m:\n\u001b[1;32m    460\u001b[0m     \u001b[38;5;66;03m# Try a pickle\u001b[39;00m\n\u001b[1;32m    461\u001b[0m     \u001b[38;5;28;01mif\u001b[39;00m \u001b[38;5;129;01mnot\u001b[39;00m allow_pickle:\n",
      "File \u001b[0;32m~/anaconda3/envs/inn/lib/python3.9/site-packages/numpy/lib/format.py:809\u001b[0m, in \u001b[0;36mread_array\u001b[0;34m(fp, allow_pickle, pickle_kwargs, max_header_size)\u001b[0m\n\u001b[1;32m    806\u001b[0m \u001b[38;5;28;01melse\u001b[39;00m:\n\u001b[1;32m    807\u001b[0m     \u001b[38;5;28;01mif\u001b[39;00m isfileobj(fp):\n\u001b[1;32m    808\u001b[0m         \u001b[38;5;66;03m# We can use the fast fromfile() function.\u001b[39;00m\n\u001b[0;32m--> 809\u001b[0m         array \u001b[38;5;241m=\u001b[39m \u001b[43mnumpy\u001b[49m\u001b[38;5;241;43m.\u001b[39;49m\u001b[43mfromfile\u001b[49m\u001b[43m(\u001b[49m\u001b[43mfp\u001b[49m\u001b[43m,\u001b[49m\u001b[43m \u001b[49m\u001b[43mdtype\u001b[49m\u001b[38;5;241;43m=\u001b[39;49m\u001b[43mdtype\u001b[49m\u001b[43m,\u001b[49m\u001b[43m \u001b[49m\u001b[43mcount\u001b[49m\u001b[38;5;241;43m=\u001b[39;49m\u001b[43mcount\u001b[49m\u001b[43m)\u001b[49m\n\u001b[1;32m    810\u001b[0m     \u001b[38;5;28;01melse\u001b[39;00m:\n\u001b[1;32m    811\u001b[0m         \u001b[38;5;66;03m# This is not a real file. We have to read it the\u001b[39;00m\n\u001b[1;32m    812\u001b[0m         \u001b[38;5;66;03m# memory-intensive way.\u001b[39;00m\n\u001b[0;32m   (...)\u001b[0m\n\u001b[1;32m    820\u001b[0m         \u001b[38;5;66;03m# not correctly instantiate zero-width string dtypes; see\u001b[39;00m\n\u001b[1;32m    821\u001b[0m         \u001b[38;5;66;03m# https://github.com/numpy/numpy/pull/6430\u001b[39;00m\n\u001b[1;32m    822\u001b[0m         array \u001b[38;5;241m=\u001b[39m numpy\u001b[38;5;241m.\u001b[39mndarray(count, dtype\u001b[38;5;241m=\u001b[39mdtype)\n",
      "\u001b[0;31mKeyboardInterrupt\u001b[0m: "
     ]
    }
   ],
   "source": [
    "temporal_batches = torch.tensor([]).to(device)\n",
    "spatial_label_batches = torch.tensor([]).to(device)\n",
    "for i in range(per_crop_spatio_temporal_data_size):\n",
    "    time_strip_ind =  np.random.randint(0, len(filepaths)-65)\n",
    "    #time_strip_ind = 0\n",
    "    #time_strip_ind = len(filepaths)-65\n",
    "    print(\"time_strip_ind\", time_strip_ind)\n",
    "    considered_filepaths = filepaths[time_strip_ind:time_strip_ind+64]  \n",
    "    print(\"len(considered_filepaths)\", len(considered_filepaths)) \n",
    "    temporal_strip = torch.tensor([]).to(device)\n",
    "    \n",
    "    #random_corner = random.choices(range(len(x_inds)), k=1)[0]\n",
    "    random_corner = len(x_inds)-1\n",
    "    #random_corner = 0\n",
    "    print(\"random_corner\", random_corner)\n",
    "    x_corner = x_inds[random_corner]\n",
    "    y_corner = y_inds[random_corner]\n",
    "\n",
    "    if(x_corner>labels.shape[0]-70):\n",
    "        x_corner = x_corner-70\n",
    "    if(y_corner>labels.shape[1]-70):\n",
    "        y_corner = y_corner-70\n",
    "\n",
    "    space_label = labels[x_corner:x_corner+64, y_corner:y_corner+64]\n",
    "    space_label = torch.from_numpy(space_label).to(device)\n",
    "    \n",
    "    spatial_label_batches = torch.cat((spatial_label_batches, space_label.unsqueeze(0)), axis=0)\n",
    "    for filepath in considered_filepaths:\n",
    "        numpy_array = np.load(filepath)\n",
    "        torch_tensor = torch.from_numpy(numpy_array).to(device)\n",
    "        numpy_array = 0.0\n",
    "\n",
    "        temporal_strip = torch.cat((temporal_strip, torch_tensor[x_corner:x_corner+64, y_corner:y_corner+64].unsqueeze(0)), axis=0)\n",
    "\n",
    "    temporal_batches = torch.cat((temporal_batches, temporal_strip.unsqueeze(0)) , axis=0)\n",
    "\n",
    "    print(\"temporal_batches.shape\", temporal_batches.shape)\n",
    "    print(\"spatial_label_batches.shape\", spatial_label_batches.shape)\n",
    "\n",
    "    array_lai = temporal_batches.cpu().numpy()\n",
    "    #tifffile.imsave('/home/luser/stelar_3d/storage/per_crop_data_labels/'+vista_crop_dict[chosen_crop_types]+'/train'+vista_crop_dict[chosen_crop_types]+'.tif', array_lai)\n",
    "\n",
    "\n",
    "    array_lab = spatial_label_batches.cpu().numpy()\n",
    "    #tifffile.imsave('/home/luser/stelar_3d/storage/per_crop_data_labels/'+vista_crop_dict[chosen_crop_types]+'/lab'+vista_crop_dict[chosen_crop_types]+'.tif', array_lab)\n"
   ]
  },
  {
   "cell_type": "code",
   "execution_count": 35,
   "metadata": {},
   "outputs": [
    {
     "data": {
      "text/plain": [
       "0"
      ]
     },
     "execution_count": 35,
     "metadata": {},
     "output_type": "execute_result"
    }
   ],
   "source": [
    "random.choices(range(4), k=1)[0]"
   ]
  },
  {
   "cell_type": "code",
   "execution_count": null,
   "metadata": {},
   "outputs": [],
   "source": []
  },
  {
   "cell_type": "code",
   "execution_count": null,
   "metadata": {},
   "outputs": [],
   "source": []
  }
 ],
 "metadata": {
  "kernelspec": {
   "display_name": "Python 3 (ipykernel)",
   "language": "python",
   "name": "python3"
  },
  "language_info": {
   "codemirror_mode": {
    "name": "ipython",
    "version": 3
   },
   "file_extension": ".py",
   "mimetype": "text/x-python",
   "name": "python",
   "nbconvert_exporter": "python",
   "pygments_lexer": "ipython3",
   "version": "3.9.undefined"
  }
 },
 "nbformat": 4,
 "nbformat_minor": 2
}
