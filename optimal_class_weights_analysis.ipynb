{
 "cells": [
  {
   "cell_type": "code",
   "execution_count": null,
   "metadata": {},
   "outputs": [],
   "source": [
    "import numpy as np"
   ]
  },
  {
   "cell_type": "code",
   "execution_count": null,
   "metadata": {},
   "outputs": [],
   "source": [
    "population = np.array([4205708736  144678848   63277120  146068032])"
   ]
  },
  {
   "cell_type": "code",
   "execution_count": null,
   "metadata": {},
   "outputs": [],
   "source": [
    "eights [1.64132624e-04 1.38695770e-01 7.25069923e-01 1.36070175e-01]                                      \n",
    "weights[0] 0.0001641326244692921\n",
    "weights[1] 0.1386957696642287\n",
    "weights[2] 0.7250699227930417\n",
    "weights[3] 0.13607017491826026"
   ]
  }
 ],
 "metadata": {
  "language_info": {
   "name": "python"
  }
 },
 "nbformat": 4,
 "nbformat_minor": 2
}
