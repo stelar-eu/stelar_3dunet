{
  "cells": [
    {
      "cell_type": "code",
      "execution_count": 1,
      "metadata": {
        "id": "ZNd4nlENQdMv"
      },
      "outputs": [],
      "source": [
        "#This code uses 3D Unet to train a network on 3D subvolumes (64x64x64).\n",
        "#It also segments a large volume and outputs a multidimensional OMETIFF file\n",
        "#Custom dataset is used for this code but it should work on any dataset, including BRATS."
      ]
    },
    {
      "cell_type": "code",
      "execution_count": 2,
      "metadata": {
        "id": "0svPshCfmK46"
      },
      "outputs": [
        {
          "name": "stderr",
          "output_type": "stream",
          "text": [
            "UsageError: Line magic function `%tensorflow_version` not found.\n"
          ]
        }
      ],
      "source": [
        "#Latest Tensorflow (2.4) is giving error for some of the libraries we will be using, \n",
        "# especially segmentation models 3D. \n",
        "#Therefore, I am defining TF version 1.x. \n",
        "#If you have your own 3D unet model, you can try the latest TF version.\n",
        "%tensorflow_version 1.x"
      ]
    },
    {
      "cell_type": "code",
      "execution_count": null,
      "metadata": {
        "id": "_NO5zXt_Lv6Y"
      },
      "outputs": [],
      "source": [
        "#Install all dependencies for sgementation-models-3D library.\n",
        "#We will use this library to call 3D unet.\n",
        "#Alternative, you can define your own Unet, if you have skills!\n",
        "!pip install classification-models-3D\n",
        "!pip install efficientnet-3D\n",
        "!pip install segmentation-models-3D"
      ]
    },
    {
      "cell_type": "code",
      "execution_count": null,
      "metadata": {
        "id": "DFJYJc1p_LRy"
      },
      "outputs": [],
      "source": [
        "#Use patchify to break large volumes into smaller for training \n",
        "#and also to put patches back together after prediction.\n",
        "!pip install patchify"
      ]
    },
    {
      "cell_type": "code",
      "execution_count": 1,
      "metadata": {
        "id": "foXdS4Uil4WP"
      },
      "outputs": [
        {
          "name": "stderr",
          "output_type": "stream",
          "text": [
            "2024-04-07 18:53:14.082724: I tensorflow/core/util/port.cc:110] oneDNN custom operations are on. You may see slightly different numerical results due to floating-point round-off errors from different computation orders. To turn them off, set the environment variable `TF_ENABLE_ONEDNN_OPTS=0`.\n",
            "2024-04-07 18:53:15.097889: I tensorflow/core/platform/cpu_feature_guard.cc:182] This TensorFlow binary is optimized to use available CPU instructions in performance-critical operations.\n",
            "To enable the following instructions: AVX2 AVX512F AVX512_VNNI FMA, in other operations, rebuild TensorFlow with the appropriate compiler flags.\n",
            "2024-04-07 18:53:16.032484: W tensorflow/compiler/tf2tensorrt/utils/py_utils.cc:38] TF-TRT Warning: Could not find TensorRT\n"
          ]
        },
        {
          "name": "stdout",
          "output_type": "stream",
          "text": [
            "2.13.1\n",
            "2.13.1\n"
          ]
        }
      ],
      "source": [
        "import tensorflow as tf\n",
        "import keras\n",
        "print(tf.__version__)\n",
        "print(keras.__version__)"
      ]
    },
    {
      "cell_type": "code",
      "execution_count": 2,
      "metadata": {
        "id": "45aZsgManbdG"
      },
      "outputs": [
        {
          "name": "stdout",
          "output_type": "stream",
          "text": [
            "Found GPU at: /device:GPU:0\n"
          ]
        },
        {
          "name": "stderr",
          "output_type": "stream",
          "text": [
            "2024-04-07 18:53:18.099062: I tensorflow/compiler/xla/stream_executor/cuda/cuda_gpu_executor.cc:995] successful NUMA node read from SysFS had negative value (-1), but there must be at least one NUMA node, so returning NUMA node zero. See more at https://github.com/torvalds/linux/blob/v6.0/Documentation/ABI/testing/sysfs-bus-pci#L344-L355\n",
            "2024-04-07 18:53:18.100863: I tensorflow/compiler/xla/stream_executor/cuda/cuda_gpu_executor.cc:995] successful NUMA node read from SysFS had negative value (-1), but there must be at least one NUMA node, so returning NUMA node zero. See more at https://github.com/torvalds/linux/blob/v6.0/Documentation/ABI/testing/sysfs-bus-pci#L344-L355\n",
            "2024-04-07 18:53:18.102483: I tensorflow/compiler/xla/stream_executor/cuda/cuda_gpu_executor.cc:995] successful NUMA node read from SysFS had negative value (-1), but there must be at least one NUMA node, so returning NUMA node zero. See more at https://github.com/torvalds/linux/blob/v6.0/Documentation/ABI/testing/sysfs-bus-pci#L344-L355\n",
            "2024-04-07 18:53:18.104048: I tensorflow/compiler/xla/stream_executor/cuda/cuda_gpu_executor.cc:995] successful NUMA node read from SysFS had negative value (-1), but there must be at least one NUMA node, so returning NUMA node zero. See more at https://github.com/torvalds/linux/blob/v6.0/Documentation/ABI/testing/sysfs-bus-pci#L344-L355\n",
            "2024-04-07 18:53:18.613314: I tensorflow/compiler/xla/stream_executor/cuda/cuda_gpu_executor.cc:995] successful NUMA node read from SysFS had negative value (-1), but there must be at least one NUMA node, so returning NUMA node zero. See more at https://github.com/torvalds/linux/blob/v6.0/Documentation/ABI/testing/sysfs-bus-pci#L344-L355\n",
            "2024-04-07 18:53:18.614892: I tensorflow/compiler/xla/stream_executor/cuda/cuda_gpu_executor.cc:995] successful NUMA node read from SysFS had negative value (-1), but there must be at least one NUMA node, so returning NUMA node zero. See more at https://github.com/torvalds/linux/blob/v6.0/Documentation/ABI/testing/sysfs-bus-pci#L344-L355\n",
            "2024-04-07 18:53:18.616433: I tensorflow/compiler/xla/stream_executor/cuda/cuda_gpu_executor.cc:995] successful NUMA node read from SysFS had negative value (-1), but there must be at least one NUMA node, so returning NUMA node zero. See more at https://github.com/torvalds/linux/blob/v6.0/Documentation/ABI/testing/sysfs-bus-pci#L344-L355\n",
            "2024-04-07 18:53:18.618028: I tensorflow/compiler/xla/stream_executor/cuda/cuda_gpu_executor.cc:995] successful NUMA node read from SysFS had negative value (-1), but there must be at least one NUMA node, so returning NUMA node zero. See more at https://github.com/torvalds/linux/blob/v6.0/Documentation/ABI/testing/sysfs-bus-pci#L344-L355\n",
            "2024-04-07 18:53:18.619818: I tensorflow/compiler/xla/stream_executor/cuda/cuda_gpu_executor.cc:995] successful NUMA node read from SysFS had negative value (-1), but there must be at least one NUMA node, so returning NUMA node zero. See more at https://github.com/torvalds/linux/blob/v6.0/Documentation/ABI/testing/sysfs-bus-pci#L344-L355\n",
            "2024-04-07 18:53:18.621250: I tensorflow/compiler/xla/stream_executor/cuda/cuda_gpu_executor.cc:995] successful NUMA node read from SysFS had negative value (-1), but there must be at least one NUMA node, so returning NUMA node zero. See more at https://github.com/torvalds/linux/blob/v6.0/Documentation/ABI/testing/sysfs-bus-pci#L344-L355\n",
            "2024-04-07 18:53:18.622684: I tensorflow/compiler/xla/stream_executor/cuda/cuda_gpu_executor.cc:995] successful NUMA node read from SysFS had negative value (-1), but there must be at least one NUMA node, so returning NUMA node zero. See more at https://github.com/torvalds/linux/blob/v6.0/Documentation/ABI/testing/sysfs-bus-pci#L344-L355\n",
            "2024-04-07 18:53:18.624110: I tensorflow/compiler/xla/stream_executor/cuda/cuda_gpu_executor.cc:995] successful NUMA node read from SysFS had negative value (-1), but there must be at least one NUMA node, so returning NUMA node zero. See more at https://github.com/torvalds/linux/blob/v6.0/Documentation/ABI/testing/sysfs-bus-pci#L344-L355\n",
            "2024-04-07 18:53:22.055000: I tensorflow/compiler/xla/stream_executor/cuda/cuda_gpu_executor.cc:995] successful NUMA node read from SysFS had negative value (-1), but there must be at least one NUMA node, so returning NUMA node zero. See more at https://github.com/torvalds/linux/blob/v6.0/Documentation/ABI/testing/sysfs-bus-pci#L344-L355\n",
            "2024-04-07 18:53:22.056831: I tensorflow/compiler/xla/stream_executor/cuda/cuda_gpu_executor.cc:995] successful NUMA node read from SysFS had negative value (-1), but there must be at least one NUMA node, so returning NUMA node zero. See more at https://github.com/torvalds/linux/blob/v6.0/Documentation/ABI/testing/sysfs-bus-pci#L344-L355\n",
            "2024-04-07 18:53:22.058492: I tensorflow/compiler/xla/stream_executor/cuda/cuda_gpu_executor.cc:995] successful NUMA node read from SysFS had negative value (-1), but there must be at least one NUMA node, so returning NUMA node zero. See more at https://github.com/torvalds/linux/blob/v6.0/Documentation/ABI/testing/sysfs-bus-pci#L344-L355\n",
            "2024-04-07 18:53:22.060144: I tensorflow/compiler/xla/stream_executor/cuda/cuda_gpu_executor.cc:995] successful NUMA node read from SysFS had negative value (-1), but there must be at least one NUMA node, so returning NUMA node zero. See more at https://github.com/torvalds/linux/blob/v6.0/Documentation/ABI/testing/sysfs-bus-pci#L344-L355\n",
            "2024-04-07 18:53:22.062273: I tensorflow/compiler/xla/stream_executor/cuda/cuda_gpu_executor.cc:995] successful NUMA node read from SysFS had negative value (-1), but there must be at least one NUMA node, so returning NUMA node zero. See more at https://github.com/torvalds/linux/blob/v6.0/Documentation/ABI/testing/sysfs-bus-pci#L344-L355\n",
            "2024-04-07 18:53:22.063713: I tensorflow/compiler/xla/stream_executor/cuda/cuda_gpu_executor.cc:995] successful NUMA node read from SysFS had negative value (-1), but there must be at least one NUMA node, so returning NUMA node zero. See more at https://github.com/torvalds/linux/blob/v6.0/Documentation/ABI/testing/sysfs-bus-pci#L344-L355\n",
            "2024-04-07 18:53:22.065154: I tensorflow/compiler/xla/stream_executor/cuda/cuda_gpu_executor.cc:995] successful NUMA node read from SysFS had negative value (-1), but there must be at least one NUMA node, so returning NUMA node zero. See more at https://github.com/torvalds/linux/blob/v6.0/Documentation/ABI/testing/sysfs-bus-pci#L344-L355\n",
            "2024-04-07 18:53:22.066584: I tensorflow/compiler/xla/stream_executor/cuda/cuda_gpu_executor.cc:995] successful NUMA node read from SysFS had negative value (-1), but there must be at least one NUMA node, so returning NUMA node zero. See more at https://github.com/torvalds/linux/blob/v6.0/Documentation/ABI/testing/sysfs-bus-pci#L344-L355\n",
            "2024-04-07 18:53:22.068107: I tensorflow/compiler/xla/stream_executor/cuda/cuda_gpu_executor.cc:995] successful NUMA node read from SysFS had negative value (-1), but there must be at least one NUMA node, so returning NUMA node zero. See more at https://github.com/torvalds/linux/blob/v6.0/Documentation/ABI/testing/sysfs-bus-pci#L344-L355\n",
            "2024-04-07 18:53:22.069534: I tensorflow/core/common_runtime/gpu/gpu_device.cc:1639] Created device /device:GPU:0 with 78928 MB memory:  -> device: 0, name: NVIDIA A100 80GB PCIe, pci bus id: 0000:04:00.0, compute capability: 8.0\n",
            "2024-04-07 18:53:22.069930: I tensorflow/compiler/xla/stream_executor/cuda/cuda_gpu_executor.cc:995] successful NUMA node read from SysFS had negative value (-1), but there must be at least one NUMA node, so returning NUMA node zero. See more at https://github.com/torvalds/linux/blob/v6.0/Documentation/ABI/testing/sysfs-bus-pci#L344-L355\n",
            "2024-04-07 18:53:22.071364: I tensorflow/core/common_runtime/gpu/gpu_device.cc:1639] Created device /device:GPU:1 with 78928 MB memory:  -> device: 1, name: NVIDIA A100 80GB PCIe, pci bus id: 0000:0c:00.0, compute capability: 8.0\n",
            "2024-04-07 18:53:22.071615: I tensorflow/compiler/xla/stream_executor/cuda/cuda_gpu_executor.cc:995] successful NUMA node read from SysFS had negative value (-1), but there must be at least one NUMA node, so returning NUMA node zero. See more at https://github.com/torvalds/linux/blob/v6.0/Documentation/ABI/testing/sysfs-bus-pci#L344-L355\n",
            "2024-04-07 18:53:22.073033: I tensorflow/core/common_runtime/gpu/gpu_device.cc:1639] Created device /device:GPU:2 with 78928 MB memory:  -> device: 2, name: NVIDIA A100 80GB PCIe, pci bus id: 0000:15:00.0, compute capability: 8.0\n",
            "2024-04-07 18:53:22.073281: I tensorflow/compiler/xla/stream_executor/cuda/cuda_gpu_executor.cc:995] successful NUMA node read from SysFS had negative value (-1), but there must be at least one NUMA node, so returning NUMA node zero. See more at https://github.com/torvalds/linux/blob/v6.0/Documentation/ABI/testing/sysfs-bus-pci#L344-L355\n",
            "2024-04-07 18:53:22.074726: I tensorflow/core/common_runtime/gpu/gpu_device.cc:1639] Created device /device:GPU:3 with 20518 MB memory:  -> device: 3, name: NVIDIA A100 80GB PCIe, pci bus id: 0000:1e:00.0, compute capability: 8.0\n"
          ]
        }
      ],
      "source": [
        "#Make sure the GPU is available. \n",
        "import tensorflow as tf\n",
        "device_name = tf.test.gpu_device_name()\n",
        "if device_name != '/device:GPU:0':\n",
        "  raise SystemError('GPU device not found')\n",
        "print('Found GPU at: {}'.format(device_name))"
      ]
    },
    {
      "cell_type": "code",
      "execution_count": 3,
      "metadata": {
        "id": "Dr4Is2DRMMer"
      },
      "outputs": [
        {
          "name": "stdout",
          "output_type": "stream",
          "text": [
            "Segmentation Models: using `tf.keras` framework.\n"
          ]
        }
      ],
      "source": [
        "import segmentation_models_3D as sm\n"
      ]
    },
    {
      "cell_type": "code",
      "execution_count": 4,
      "metadata": {
        "id": "d7hKivzw-0V9"
      },
      "outputs": [],
      "source": [
        "from skimage import io\n",
        "from patchify import patchify, unpatchify\n",
        "import numpy as np\n",
        "from matplotlib import pyplot as plt\n",
        "from keras import backend as K\n",
        "from keras.utils import to_categorical\n",
        "from sklearn.model_selection import train_test_split"
      ]
    },
    {
      "cell_type": "code",
      "execution_count": 5,
      "metadata": {
        "id": "HWZiqrMK-kVb"
      },
      "outputs": [],
      "source": [
        "#Load input images and masks. \n",
        "#Here we load 256x256x256 pixel volume. We will break it into patches of 64x64x64 for training. \n",
        "image = io.imread('/home/luser/stelar_3d/drive/MyDrive/Colab Notebooks/data/sandstone_3d/training_data/train_images_256_256_256.tif')\n",
        "img_patches = patchify(image, (64, 64, 64), step=64)  #Step=64 for 64 patches means no overlap\n",
        "\n",
        "mask = io.imread('/home/luser/stelar_3d/drive/MyDrive/Colab Notebooks/data/sandstone_3d/training_data/train_masks_256_256_256.tif')\n",
        "mask_patches = patchify(mask, (64, 64, 64), step=64)  \n"
      ]
    },
    {
      "cell_type": "code",
      "execution_count": 6,
      "metadata": {
        "id": "A8a8BumA_qpa"
      },
      "outputs": [
        {
          "data": {
            "text/plain": [
              "<matplotlib.image.AxesImage at 0x7f305474f910>"
            ]
          },
          "execution_count": 6,
          "metadata": {},
          "output_type": "execute_result"
        },
        {
          "data": {
            "image/png": "[encoded data removed]",
            "text/plain": [
              "<Figure size 640x480 with 1 Axes>"
            ]
          },
          "metadata": {},
          "output_type": "display_data"
        }
      ],
      "source": [
        "plt.imshow(img_patches[1,2,3,:,:,32])\n",
        "#plt.imshow(mask_patches[1,2,3,:,:,32])"
      ]
    },
    {
      "cell_type": "code",
      "execution_count": 7,
      "metadata": {
        "id": "K08wiQ0y-ogu"
      },
      "outputs": [
        {
          "name": "stdout",
          "output_type": "stream",
          "text": [
            "(64, 64, 64, 64)\n"
          ]
        },
        {
          "ename": "",
          "evalue": "",
          "output_type": "error",
          "traceback": [
            "\u001b[1;31mThe Kernel crashed while executing code in the current cell or a previous cell. \n",
            "\u001b[1;31mPlease review the code in the cell(s) to identify a possible cause of the failure. \n",
            "\u001b[1;31mClick <a href='https://aka.ms/vscodeJupyterKernelCrash'>here</a> for more info. \n",
            "\u001b[1;31mView Jupyter <a href='command:jupyter.viewOutput'>log</a> for further details."
          ]
        }
      ],
      "source": [
        "\n",
        "input_img = np.reshape(img_patches, (-1, img_patches.shape[3], img_patches.shape[4], img_patches.shape[5]))\n",
        "input_mask = np.reshape(mask_patches, (-1, mask_patches.shape[3], mask_patches.shape[4], mask_patches.shape[5]))\n",
        "\n",
        "print(input_img.shape)  # n_patches, x, y, z\n",
        "\n"
      ]
    },
    {
      "cell_type": "code",
      "execution_count": 14,
      "metadata": {
        "id": "3FqzxzsX_4YQ"
      },
      "outputs": [],
      "source": [
        "n_classes=4"
      ]
    },
    {
      "cell_type": "code",
      "execution_count": 15,
      "metadata": {
        "id": "av8BBXU0-rdw"
      },
      "outputs": [],
      "source": [
        "#Convert grey image to 3 channels by copying channel 3 times.\n",
        "#We do this as our unet model expects 3 channel input. \n",
        "\n",
        "train_img = np.stack((input_img,)*3, axis=-1)\n",
        "train_mask = np.expand_dims(input_mask, axis=4)\n",
        "\n",
        "\n",
        "train_mask_cat = to_categorical(train_mask, num_classes=n_classes)\n",
        "\n",
        "\n",
        "X_train, X_test, y_train, y_test = train_test_split(train_img, train_mask_cat, test_size = 0.10, random_state = 0)\n",
        "\n"
      ]
    },
    {
      "cell_type": "code",
      "execution_count": 16,
      "metadata": {
        "id": "Higavd5lmj6A"
      },
      "outputs": [],
      "source": [
        "\n",
        "# Loss Function and coefficients to be used during training:\n",
        "def dice_coefficient(y_true, y_pred):\n",
        "    smoothing_factor = 1\n",
        "    flat_y_true = K.flatten(y_true)\n",
        "    flat_y_pred = K.flatten(y_pred)\n",
        "    return (2. * K.sum(flat_y_true * flat_y_pred) + smoothing_factor) / (K.sum(flat_y_true) + K.sum(flat_y_pred) + smoothing_factor)\n",
        "\n",
        "def dice_coefficient_loss(y_true, y_pred):\n",
        "    return 1 - dice_coefficient(y_true, y_pred)\n"
      ]
    },
    {
      "cell_type": "markdown",
      "metadata": {
        "id": "wh0P2o-kQwSK"
      },
      "source": [
        "Backbones: ['resnet18', 'resnet34', 'resnet50', 'resnet101', 'resnet152', 'seresnet18', 'seresnet34', 'seresnet50', 'seresnet101', 'seresnet152', 'seresnext50', 'seresnext101', 'senet154', 'resnext50', 'resnext101', 'vgg16', 'vgg19', 'densenet121', 'densenet169', 'densenet201', 'inceptionresnetv2', 'inceptionv3', 'mobilenet', 'mobilenetv2', 'efficientnetb0', 'efficientnetb1', 'efficientnetb2', 'efficientnetb3', 'efficientnetb4', 'efficientnetb5', 'efficientnetb6', 'efficientnetb7']"
      ]
    },
    {
      "cell_type": "code",
      "execution_count": 17,
      "metadata": {
        "id": "mWiQsv6IqGGF"
      },
      "outputs": [
        {
          "name": "stderr",
          "output_type": "stream",
          "text": [
            "2024-04-06 23:37:59.100622: I external/local_xla/xla/stream_executor/cuda/cuda_executor.cc:901] successful NUMA node read from SysFS had negative value (-1), but there must be at least one NUMA node, so returning NUMA node zero. See more at https://github.com/torvalds/linux/blob/v6.0/Documentation/ABI/testing/sysfs-bus-pci#L344-L355\n",
            "2024-04-06 23:37:59.102330: I external/local_xla/xla/stream_executor/cuda/cuda_executor.cc:901] successful NUMA node read from SysFS had negative value (-1), but there must be at least one NUMA node, so returning NUMA node zero. See more at https://github.com/torvalds/linux/blob/v6.0/Documentation/ABI/testing/sysfs-bus-pci#L344-L355\n",
            "2024-04-06 23:37:59.103864: I external/local_xla/xla/stream_executor/cuda/cuda_executor.cc:901] successful NUMA node read from SysFS had negative value (-1), but there must be at least one NUMA node, so returning NUMA node zero. See more at https://github.com/torvalds/linux/blob/v6.0/Documentation/ABI/testing/sysfs-bus-pci#L344-L355\n",
            "2024-04-06 23:37:59.105430: I external/local_xla/xla/stream_executor/cuda/cuda_executor.cc:901] successful NUMA node read from SysFS had negative value (-1), but there must be at least one NUMA node, so returning NUMA node zero. See more at https://github.com/torvalds/linux/blob/v6.0/Documentation/ABI/testing/sysfs-bus-pci#L344-L355\n",
            "2024-04-06 23:37:59.107504: I external/local_xla/xla/stream_executor/cuda/cuda_executor.cc:901] successful NUMA node read from SysFS had negative value (-1), but there must be at least one NUMA node, so returning NUMA node zero. See more at https://github.com/torvalds/linux/blob/v6.0/Documentation/ABI/testing/sysfs-bus-pci#L344-L355\n",
            "2024-04-06 23:37:59.109108: I external/local_xla/xla/stream_executor/cuda/cuda_executor.cc:901] successful NUMA node read from SysFS had negative value (-1), but there must be at least one NUMA node, so returning NUMA node zero. See more at https://github.com/torvalds/linux/blob/v6.0/Documentation/ABI/testing/sysfs-bus-pci#L344-L355\n",
            "2024-04-06 23:37:59.110574: I external/local_xla/xla/stream_executor/cuda/cuda_executor.cc:901] successful NUMA node read from SysFS had negative value (-1), but there must be at least one NUMA node, so returning NUMA node zero. See more at https://github.com/torvalds/linux/blob/v6.0/Documentation/ABI/testing/sysfs-bus-pci#L344-L355\n",
            "2024-04-06 23:37:59.112029: I external/local_xla/xla/stream_executor/cuda/cuda_executor.cc:901] successful NUMA node read from SysFS had negative value (-1), but there must be at least one NUMA node, so returning NUMA node zero. See more at https://github.com/torvalds/linux/blob/v6.0/Documentation/ABI/testing/sysfs-bus-pci#L344-L355\n",
            "2024-04-06 23:37:59.114018: I external/local_xla/xla/stream_executor/cuda/cuda_executor.cc:901] successful NUMA node read from SysFS had negative value (-1), but there must be at least one NUMA node, so returning NUMA node zero. See more at https://github.com/torvalds/linux/blob/v6.0/Documentation/ABI/testing/sysfs-bus-pci#L344-L355\n",
            "2024-04-06 23:37:59.115450: I external/local_xla/xla/stream_executor/cuda/cuda_executor.cc:901] successful NUMA node read from SysFS had negative value (-1), but there must be at least one NUMA node, so returning NUMA node zero. See more at https://github.com/torvalds/linux/blob/v6.0/Documentation/ABI/testing/sysfs-bus-pci#L344-L355\n",
            "2024-04-06 23:37:59.116897: I external/local_xla/xla/stream_executor/cuda/cuda_executor.cc:901] successful NUMA node read from SysFS had negative value (-1), but there must be at least one NUMA node, so returning NUMA node zero. See more at https://github.com/torvalds/linux/blob/v6.0/Documentation/ABI/testing/sysfs-bus-pci#L344-L355\n",
            "2024-04-06 23:37:59.118389: I external/local_xla/xla/stream_executor/cuda/cuda_executor.cc:901] successful NUMA node read from SysFS had negative value (-1), but there must be at least one NUMA node, so returning NUMA node zero. See more at https://github.com/torvalds/linux/blob/v6.0/Documentation/ABI/testing/sysfs-bus-pci#L344-L355\n",
            "2024-04-06 23:37:59.122810: I external/local_xla/xla/stream_executor/cuda/cuda_executor.cc:901] successful NUMA node read from SysFS had negative value (-1), but there must be at least one NUMA node, so returning NUMA node zero. See more at https://github.com/torvalds/linux/blob/v6.0/Documentation/ABI/testing/sysfs-bus-pci#L344-L355\n",
            "2024-04-06 23:37:59.124365: I external/local_xla/xla/stream_executor/cuda/cuda_executor.cc:901] successful NUMA node read from SysFS had negative value (-1), but there must be at least one NUMA node, so returning NUMA node zero. See more at https://github.com/torvalds/linux/blob/v6.0/Documentation/ABI/testing/sysfs-bus-pci#L344-L355\n",
            "2024-04-06 23:37:59.125841: I external/local_xla/xla/stream_executor/cuda/cuda_executor.cc:901] successful NUMA node read from SysFS had negative value (-1), but there must be at least one NUMA node, so returning NUMA node zero. See more at https://github.com/torvalds/linux/blob/v6.0/Documentation/ABI/testing/sysfs-bus-pci#L344-L355\n",
            "2024-04-06 23:37:59.127275: I external/local_xla/xla/stream_executor/cuda/cuda_executor.cc:901] successful NUMA node read from SysFS had negative value (-1), but there must be at least one NUMA node, so returning NUMA node zero. See more at https://github.com/torvalds/linux/blob/v6.0/Documentation/ABI/testing/sysfs-bus-pci#L344-L355\n",
            "2024-04-06 23:37:59.128910: I external/local_xla/xla/stream_executor/cuda/cuda_executor.cc:901] successful NUMA node read from SysFS had negative value (-1), but there must be at least one NUMA node, so returning NUMA node zero. See more at https://github.com/torvalds/linux/blob/v6.0/Documentation/ABI/testing/sysfs-bus-pci#L344-L355\n",
            "2024-04-06 23:37:59.130358: I external/local_xla/xla/stream_executor/cuda/cuda_executor.cc:901] successful NUMA node read from SysFS had negative value (-1), but there must be at least one NUMA node, so returning NUMA node zero. See more at https://github.com/torvalds/linux/blob/v6.0/Documentation/ABI/testing/sysfs-bus-pci#L344-L355\n",
            "2024-04-06 23:37:59.131790: I external/local_xla/xla/stream_executor/cuda/cuda_executor.cc:901] successful NUMA node read from SysFS had negative value (-1), but there must be at least one NUMA node, so returning NUMA node zero. See more at https://github.com/torvalds/linux/blob/v6.0/Documentation/ABI/testing/sysfs-bus-pci#L344-L355\n",
            "2024-04-06 23:37:59.133401: I external/local_xla/xla/stream_executor/cuda/cuda_executor.cc:901] successful NUMA node read from SysFS had negative value (-1), but there must be at least one NUMA node, so returning NUMA node zero. See more at https://github.com/torvalds/linux/blob/v6.0/Documentation/ABI/testing/sysfs-bus-pci#L344-L355\n",
            "2024-04-06 23:37:59.134956: I external/local_xla/xla/stream_executor/cuda/cuda_executor.cc:901] successful NUMA node read from SysFS had negative value (-1), but there must be at least one NUMA node, so returning NUMA node zero. See more at https://github.com/torvalds/linux/blob/v6.0/Documentation/ABI/testing/sysfs-bus-pci#L344-L355\n",
            "2024-04-06 23:37:59.136555: I external/local_xla/xla/stream_executor/cuda/cuda_executor.cc:901] successful NUMA node read from SysFS had negative value (-1), but there must be at least one NUMA node, so returning NUMA node zero. See more at https://github.com/torvalds/linux/blob/v6.0/Documentation/ABI/testing/sysfs-bus-pci#L344-L355\n",
            "2024-04-06 23:37:59.138007: I external/local_xla/xla/stream_executor/cuda/cuda_executor.cc:901] successful NUMA node read from SysFS had negative value (-1), but there must be at least one NUMA node, so returning NUMA node zero. See more at https://github.com/torvalds/linux/blob/v6.0/Documentation/ABI/testing/sysfs-bus-pci#L344-L355\n",
            "2024-04-06 23:37:59.139460: I external/local_xla/xla/stream_executor/cuda/cuda_executor.cc:901] successful NUMA node read from SysFS had negative value (-1), but there must be at least one NUMA node, so returning NUMA node zero. See more at https://github.com/torvalds/linux/blob/v6.0/Documentation/ABI/testing/sysfs-bus-pci#L344-L355\n",
            "2024-04-06 23:37:59.141451: I external/local_xla/xla/stream_executor/cuda/cuda_executor.cc:901] successful NUMA node read from SysFS had negative value (-1), but there must be at least one NUMA node, so returning NUMA node zero. See more at https://github.com/torvalds/linux/blob/v6.0/Documentation/ABI/testing/sysfs-bus-pci#L344-L355\n",
            "2024-04-06 23:37:59.142898: I external/local_xla/xla/stream_executor/cuda/cuda_executor.cc:901] successful NUMA node read from SysFS had negative value (-1), but there must be at least one NUMA node, so returning NUMA node zero. See more at https://github.com/torvalds/linux/blob/v6.0/Documentation/ABI/testing/sysfs-bus-pci#L344-L355\n",
            "2024-04-06 23:37:59.144491: I external/local_xla/xla/stream_executor/cuda/cuda_executor.cc:901] successful NUMA node read from SysFS had negative value (-1), but there must be at least one NUMA node, so returning NUMA node zero. See more at https://github.com/torvalds/linux/blob/v6.0/Documentation/ABI/testing/sysfs-bus-pci#L344-L355\n",
            "2024-04-06 23:37:59.145994: I external/local_xla/xla/stream_executor/cuda/cuda_executor.cc:901] successful NUMA node read from SysFS had negative value (-1), but there must be at least one NUMA node, so returning NUMA node zero. See more at https://github.com/torvalds/linux/blob/v6.0/Documentation/ABI/testing/sysfs-bus-pci#L344-L355\n",
            "2024-04-06 23:37:59.147836: I external/local_xla/xla/stream_executor/cuda/cuda_executor.cc:901] successful NUMA node read from SysFS had negative value (-1), but there must be at least one NUMA node, so returning NUMA node zero. See more at https://github.com/torvalds/linux/blob/v6.0/Documentation/ABI/testing/sysfs-bus-pci#L344-L355\n",
            "2024-04-06 23:37:59.149243: I tensorflow/core/common_runtime/gpu/gpu_device.cc:1929] Created device /job:localhost/replica:0/task:0/device:GPU:0 with 79086 MB memory:  -> device: 0, name: NVIDIA A100 80GB PCIe, pci bus id: 0000:04:00.0, compute capability: 8.0\n",
            "2024-04-06 23:37:59.149303: I external/local_xla/xla/stream_executor/cuda/cuda_executor.cc:901] successful NUMA node read from SysFS had negative value (-1), but there must be at least one NUMA node, so returning NUMA node zero. See more at https://github.com/torvalds/linux/blob/v6.0/Documentation/ABI/testing/sysfs-bus-pci#L344-L355\n",
            "2024-04-06 23:37:59.152138: I tensorflow/core/common_runtime/gpu/gpu_device.cc:1929] Created device /job:localhost/replica:0/task:0/device:GPU:1 with 79086 MB memory:  -> device: 1, name: NVIDIA A100 80GB PCIe, pci bus id: 0000:0c:00.0, compute capability: 8.0\n",
            "2024-04-06 23:37:59.152611: I external/local_xla/xla/stream_executor/cuda/cuda_executor.cc:901] successful NUMA node read from SysFS had negative value (-1), but there must be at least one NUMA node, so returning NUMA node zero. See more at https://github.com/torvalds/linux/blob/v6.0/Documentation/ABI/testing/sysfs-bus-pci#L344-L355\n",
            "2024-04-06 23:37:59.154017: I tensorflow/core/common_runtime/gpu/gpu_device.cc:1929] Created device /job:localhost/replica:0/task:0/device:GPU:2 with 79086 MB memory:  -> device: 2, name: NVIDIA A100 80GB PCIe, pci bus id: 0000:15:00.0, compute capability: 8.0\n",
            "2024-04-06 23:37:59.154080: I external/local_xla/xla/stream_executor/cuda/cuda_executor.cc:901] successful NUMA node read from SysFS had negative value (-1), but there must be at least one NUMA node, so returning NUMA node zero. See more at https://github.com/torvalds/linux/blob/v6.0/Documentation/ABI/testing/sysfs-bus-pci#L344-L355\n",
            "2024-04-06 23:37:59.156333: I tensorflow/core/common_runtime/gpu/gpu_device.cc:1929] Created device /job:localhost/replica:0/task:0/device:GPU:3 with 20676 MB memory:  -> device: 3, name: NVIDIA A100 80GB PCIe, pci bus id: 0000:1e:00.0, compute capability: 8.0\n"
          ]
        }
      ],
      "source": [
        "#Define parameters for our model.\n",
        "\n",
        "encoder_weights = 'imagenet'\n",
        "BACKBONE = 'vgg16'  #Try vgg16, efficientnetb7, inceptionv3, resnet50\n",
        "activation = 'softmax'\n",
        "patch_size = 64\n",
        "n_classes = 4\n",
        "channels=3\n",
        "\n",
        "LR = 0.0001\n",
        "optim = keras.optimizers.Adam(LR)\n",
        "\n",
        "# Segmentation models losses can be combined together by '+' and scaled by integer or float factor\n",
        "# set class weights for dice_loss (car: 1.; pedestrian: 2.; background: 0.5;)\n",
        "dice_loss = sm.losses.DiceLoss(class_weights=np.array([0.25, 0.25, 0.25, 0.25])) \n",
        "focal_loss = sm.losses.CategoricalFocalLoss()\n",
        "total_loss = dice_loss + (1 * focal_loss)\n",
        "\n",
        "# actulally total_loss can be imported directly from library, above example just show you how to manipulate with losses\n",
        "# total_loss = sm.losses.binary_focal_dice_loss # or sm.losses.categorical_focal_dice_loss \n",
        "\n",
        "metrics = [sm.metrics.IOUScore(threshold=0.5), sm.metrics.FScore(threshold=0.5)]"
      ]
    },
    {
      "cell_type": "code",
      "execution_count": 18,
      "metadata": {
        "id": "lePX43TyD1Lp"
      },
      "outputs": [],
      "source": [
        "preprocess_input = sm.get_preprocessing(BACKBONE)"
      ]
    },
    {
      "cell_type": "code",
      "execution_count": 19,
      "metadata": {
        "id": "3jTN_tsXD7qK"
      },
      "outputs": [],
      "source": [
        "#Preprocess input data - otherwise you end up with garbage resutls \n",
        "# and potentially model that does not converge.\n",
        "X_train_prep = preprocess_input(X_train)\n",
        "X_test_prep = preprocess_input(X_test)"
      ]
    },
    {
      "cell_type": "code",
      "execution_count": 20,
      "metadata": {
        "id": "jdoK1wudAJQ7"
      },
      "outputs": [
        {
          "name": "stdout",
          "output_type": "stream",
          "text": [
            "Downloading data from https://github.com/ZFTurbo/classification_models_3D/releases/download/v1.0.4/vgg16_inp_channel_3_tch_0_top_False.h5\n",
            "176606448/176606448 [==============================] - 4s 0us/step\n",
            "Model: \"model\"\n",
            "__________________________________________________________________________________________________\n",
            " Layer (type)                Output Shape                 Param #   Connected to                  \n",
            "==================================================================================================\n",
            " input_1 (InputLayer)        [(None, 64, 64, 64, 3)]      0         []                            \n",
            "                                                                                                  \n",
            " block1_conv1 (Conv3D)       (None, 64, 64, 64, 64)       5248      ['input_1[0][0]']             \n",
            "                                                                                                  \n",
            " block1_conv2 (Conv3D)       (None, 64, 64, 64, 64)       110656    ['block1_conv1[0][0]']        \n",
            "                                                                                                  \n",
            " block1_pool (MaxPooling3D)  (None, 32, 32, 32, 64)       0         ['block1_conv2[0][0]']        \n",
            "                                                                                                  \n",
            " block2_conv1 (Conv3D)       (None, 32, 32, 32, 128)      221312    ['block1_pool[0][0]']         \n",
            "                                                                                                  \n",
            " block2_conv2 (Conv3D)       (None, 32, 32, 32, 128)      442496    ['block2_conv1[0][0]']        \n",
            "                                                                                                  \n",
            " block2_pool (MaxPooling3D)  (None, 16, 16, 16, 128)      0         ['block2_conv2[0][0]']        \n",
            "                                                                                                  \n",
            " block3_conv1 (Conv3D)       (None, 16, 16, 16, 256)      884992    ['block2_pool[0][0]']         \n",
            "                                                                                                  \n",
            " block3_conv2 (Conv3D)       (None, 16, 16, 16, 256)      1769728   ['block3_conv1[0][0]']        \n",
            "                                                                                                  \n",
            " block3_conv3 (Conv3D)       (None, 16, 16, 16, 256)      1769728   ['block3_conv2[0][0]']        \n",
            "                                                                                                  \n",
            " block3_pool (MaxPooling3D)  (None, 8, 8, 8, 256)         0         ['block3_conv3[0][0]']        \n",
            "                                                                                                  \n",
            " block4_conv1 (Conv3D)       (None, 8, 8, 8, 512)         3539456   ['block3_pool[0][0]']         \n",
            "                                                                                                  \n",
            " block4_conv2 (Conv3D)       (None, 8, 8, 8, 512)         7078400   ['block4_conv1[0][0]']        \n",
            "                                                                                                  \n",
            " block4_conv3 (Conv3D)       (None, 8, 8, 8, 512)         7078400   ['block4_conv2[0][0]']        \n",
            "                                                                                                  \n",
            " block4_pool (MaxPooling3D)  (None, 4, 4, 4, 512)         0         ['block4_conv3[0][0]']        \n",
            "                                                                                                  \n",
            " block5_conv1 (Conv3D)       (None, 4, 4, 4, 512)         7078400   ['block4_pool[0][0]']         \n",
            "                                                                                                  \n",
            " block5_conv2 (Conv3D)       (None, 4, 4, 4, 512)         7078400   ['block5_conv1[0][0]']        \n",
            "                                                                                                  \n",
            " block5_conv3 (Conv3D)       (None, 4, 4, 4, 512)         7078400   ['block5_conv2[0][0]']        \n",
            "                                                                                                  \n",
            " block5_pool (MaxPooling3D)  (None, 2, 2, 2, 512)         0         ['block5_conv3[0][0]']        \n",
            "                                                                                                  \n",
            " center_block1_conv (Conv3D  (None, 2, 2, 2, 512)         7077888   ['block5_pool[0][0]']         \n",
            " )                                                                                                \n",
            "                                                                                                  \n",
            " center_block1_bn (BatchNor  (None, 2, 2, 2, 512)         2048      ['center_block1_conv[0][0]']  \n",
            " malization)                                                                                      \n",
            "                                                                                                  \n",
            " center_block1_relu (Activa  (None, 2, 2, 2, 512)         0         ['center_block1_bn[0][0]']    \n",
            " tion)                                                                                            \n",
            "                                                                                                  \n",
            " center_block2_conv (Conv3D  (None, 2, 2, 2, 512)         7077888   ['center_block1_relu[0][0]']  \n",
            " )                                                                                                \n",
            "                                                                                                  \n",
            " center_block2_bn (BatchNor  (None, 2, 2, 2, 512)         2048      ['center_block2_conv[0][0]']  \n",
            " malization)                                                                                      \n",
            "                                                                                                  \n",
            " center_block2_relu (Activa  (None, 2, 2, 2, 512)         0         ['center_block2_bn[0][0]']    \n",
            " tion)                                                                                            \n",
            "                                                                                                  \n",
            " decoder_stage0_upsampling   (None, 4, 4, 4, 512)         0         ['center_block2_relu[0][0]']  \n",
            " (UpSampling3D)                                                                                   \n",
            "                                                                                                  \n",
            " decoder_stage0_concat (Con  (None, 4, 4, 4, 1024)        0         ['decoder_stage0_upsampling[0]\n",
            " catenate)                                                          [0]',                         \n",
            "                                                                     'block5_conv3[0][0]']        \n",
            "                                                                                                  \n",
            " decoder_stage0a_conv (Conv  (None, 4, 4, 4, 256)         7077888   ['decoder_stage0_concat[0][0]'\n",
            " 3D)                                                                ]                             \n",
            "                                                                                                  \n",
            " decoder_stage0a_bn (BatchN  (None, 4, 4, 4, 256)         1024      ['decoder_stage0a_conv[0][0]']\n",
            " ormalization)                                                                                    \n",
            "                                                                                                  \n",
            " decoder_stage0a_relu (Acti  (None, 4, 4, 4, 256)         0         ['decoder_stage0a_bn[0][0]']  \n",
            " vation)                                                                                          \n",
            "                                                                                                  \n",
            " decoder_stage0b_conv (Conv  (None, 4, 4, 4, 256)         1769472   ['decoder_stage0a_relu[0][0]']\n",
            " 3D)                                                                                              \n",
            "                                                                                                  \n",
            " decoder_stage0b_bn (BatchN  (None, 4, 4, 4, 256)         1024      ['decoder_stage0b_conv[0][0]']\n",
            " ormalization)                                                                                    \n",
            "                                                                                                  \n",
            " decoder_stage0b_relu (Acti  (None, 4, 4, 4, 256)         0         ['decoder_stage0b_bn[0][0]']  \n",
            " vation)                                                                                          \n",
            "                                                                                                  \n",
            " decoder_stage1_upsampling   (None, 8, 8, 8, 256)         0         ['decoder_stage0b_relu[0][0]']\n",
            " (UpSampling3D)                                                                                   \n",
            "                                                                                                  \n",
            " decoder_stage1_concat (Con  (None, 8, 8, 8, 768)         0         ['decoder_stage1_upsampling[0]\n",
            " catenate)                                                          [0]',                         \n",
            "                                                                     'block4_conv3[0][0]']        \n",
            "                                                                                                  \n",
            " decoder_stage1a_conv (Conv  (None, 8, 8, 8, 128)         2654208   ['decoder_stage1_concat[0][0]'\n",
            " 3D)                                                                ]                             \n",
            "                                                                                                  \n",
            " decoder_stage1a_bn (BatchN  (None, 8, 8, 8, 128)         512       ['decoder_stage1a_conv[0][0]']\n",
            " ormalization)                                                                                    \n",
            "                                                                                                  \n",
            " decoder_stage1a_relu (Acti  (None, 8, 8, 8, 128)         0         ['decoder_stage1a_bn[0][0]']  \n",
            " vation)                                                                                          \n",
            "                                                                                                  \n",
            " decoder_stage1b_conv (Conv  (None, 8, 8, 8, 128)         442368    ['decoder_stage1a_relu[0][0]']\n",
            " 3D)                                                                                              \n",
            "                                                                                                  \n",
            " decoder_stage1b_bn (BatchN  (None, 8, 8, 8, 128)         512       ['decoder_stage1b_conv[0][0]']\n",
            " ormalization)                                                                                    \n",
            "                                                                                                  \n",
            " decoder_stage1b_relu (Acti  (None, 8, 8, 8, 128)         0         ['decoder_stage1b_bn[0][0]']  \n",
            " vation)                                                                                          \n",
            "                                                                                                  \n",
            " decoder_stage2_upsampling   (None, 16, 16, 16, 128)      0         ['decoder_stage1b_relu[0][0]']\n",
            " (UpSampling3D)                                                                                   \n",
            "                                                                                                  \n",
            " decoder_stage2_concat (Con  (None, 16, 16, 16, 384)      0         ['decoder_stage2_upsampling[0]\n",
            " catenate)                                                          [0]',                         \n",
            "                                                                     'block3_conv3[0][0]']        \n",
            "                                                                                                  \n",
            " decoder_stage2a_conv (Conv  (None, 16, 16, 16, 64)       663552    ['decoder_stage2_concat[0][0]'\n",
            " 3D)                                                                ]                             \n",
            "                                                                                                  \n",
            " decoder_stage2a_bn (BatchN  (None, 16, 16, 16, 64)       256       ['decoder_stage2a_conv[0][0]']\n",
            " ormalization)                                                                                    \n",
            "                                                                                                  \n",
            " decoder_stage2a_relu (Acti  (None, 16, 16, 16, 64)       0         ['decoder_stage2a_bn[0][0]']  \n",
            " vation)                                                                                          \n",
            "                                                                                                  \n",
            " decoder_stage2b_conv (Conv  (None, 16, 16, 16, 64)       110592    ['decoder_stage2a_relu[0][0]']\n",
            " 3D)                                                                                              \n",
            "                                                                                                  \n",
            " decoder_stage2b_bn (BatchN  (None, 16, 16, 16, 64)       256       ['decoder_stage2b_conv[0][0]']\n",
            " ormalization)                                                                                    \n",
            "                                                                                                  \n",
            " decoder_stage2b_relu (Acti  (None, 16, 16, 16, 64)       0         ['decoder_stage2b_bn[0][0]']  \n",
            " vation)                                                                                          \n",
            "                                                                                                  \n",
            " decoder_stage3_upsampling   (None, 32, 32, 32, 64)       0         ['decoder_stage2b_relu[0][0]']\n",
            " (UpSampling3D)                                                                                   \n",
            "                                                                                                  \n",
            " decoder_stage3_concat (Con  (None, 32, 32, 32, 192)      0         ['decoder_stage3_upsampling[0]\n",
            " catenate)                                                          [0]',                         \n",
            "                                                                     'block2_conv2[0][0]']        \n",
            "                                                                                                  \n",
            " decoder_stage3a_conv (Conv  (None, 32, 32, 32, 32)       165888    ['decoder_stage3_concat[0][0]'\n",
            " 3D)                                                                ]                             \n",
            "                                                                                                  \n",
            " decoder_stage3a_bn (BatchN  (None, 32, 32, 32, 32)       128       ['decoder_stage3a_conv[0][0]']\n",
            " ormalization)                                                                                    \n",
            "                                                                                                  \n",
            " decoder_stage3a_relu (Acti  (None, 32, 32, 32, 32)       0         ['decoder_stage3a_bn[0][0]']  \n",
            " vation)                                                                                          \n",
            "                                                                                                  \n",
            " decoder_stage3b_conv (Conv  (None, 32, 32, 32, 32)       27648     ['decoder_stage3a_relu[0][0]']\n",
            " 3D)                                                                                              \n",
            "                                                                                                  \n",
            " decoder_stage3b_bn (BatchN  (None, 32, 32, 32, 32)       128       ['decoder_stage3b_conv[0][0]']\n",
            " ormalization)                                                                                    \n",
            "                                                                                                  \n",
            " decoder_stage3b_relu (Acti  (None, 32, 32, 32, 32)       0         ['decoder_stage3b_bn[0][0]']  \n",
            " vation)                                                                                          \n",
            "                                                                                                  \n",
            " decoder_stage4_upsampling   (None, 64, 64, 64, 32)       0         ['decoder_stage3b_relu[0][0]']\n",
            " (UpSampling3D)                                                                                   \n",
            "                                                                                                  \n",
            " decoder_stage4a_conv (Conv  (None, 64, 64, 64, 16)       13824     ['decoder_stage4_upsampling[0]\n",
            " 3D)                                                                [0]']                         \n",
            "                                                                                                  \n",
            " decoder_stage4a_bn (BatchN  (None, 64, 64, 64, 16)       64        ['decoder_stage4a_conv[0][0]']\n",
            " ormalization)                                                                                    \n",
            "                                                                                                  \n",
            " decoder_stage4a_relu (Acti  (None, 64, 64, 64, 16)       0         ['decoder_stage4a_bn[0][0]']  \n",
            " vation)                                                                                          \n",
            "                                                                                                  \n",
            " decoder_stage4b_conv (Conv  (None, 64, 64, 64, 16)       6912      ['decoder_stage4a_relu[0][0]']\n",
            " 3D)                                                                                              \n",
            "                                                                                                  \n",
            " decoder_stage4b_bn (BatchN  (None, 64, 64, 64, 16)       64        ['decoder_stage4b_conv[0][0]']\n",
            " ormalization)                                                                                    \n",
            "                                                                                                  \n",
            " decoder_stage4b_relu (Acti  (None, 64, 64, 64, 16)       0         ['decoder_stage4b_bn[0][0]']  \n",
            " vation)                                                                                          \n",
            "                                                                                                  \n",
            " final_conv (Conv3D)         (None, 64, 64, 64, 4)        1732      ['decoder_stage4b_relu[0][0]']\n",
            "                                                                                                  \n",
            " softmax (Activation)        (None, 64, 64, 64, 4)        0         ['final_conv[0][0]']          \n",
            "                                                                                                  \n",
            "==================================================================================================\n",
            "Total params: 71233540 (271.73 MB)\n",
            "Trainable params: 71229508 (271.72 MB)\n",
            "Non-trainable params: 4032 (15.75 KB)\n",
            "__________________________________________________________________________________________________\n",
            "None\n"
          ]
        }
      ],
      "source": [
        "#Define the model. Here we use Unet but we can also use other model architectures from the library.\n",
        "model = sm.Unet(BACKBONE, classes=n_classes, \n",
        "                input_shape=(patch_size, patch_size, patch_size, channels), \n",
        "                encoder_weights=encoder_weights,\n",
        "                activation=activation)\n",
        "\n",
        "model.compile(optimizer = optim, loss=total_loss, metrics=metrics)\n",
        "print(model.summary())"
      ]
    },
    {
      "cell_type": "code",
      "execution_count": 21,
      "metadata": {
        "colab": {
          "base_uri": "https://localhost:8080/"
        },
        "id": "f69gK8DoAQ1C",
        "outputId": "daa0be19-0866-4379-c2d1-5c59e878b12a"
      },
      "outputs": [
        {
          "name": "stdout",
          "output_type": "stream",
          "text": [
            "Epoch 1/100\n",
            "WARNING:tensorflow:AutoGraph could not transform <function Model.make_train_function.<locals>.train_function at 0x7f0e1e8c1ee0> and will run it as-is.\n",
            "Please report this to the TensorFlow team. When filing the bug, set the verbosity to 10 (on Linux, `export AUTOGRAPH_VERBOSITY=10`) and attach the full output.\n",
            "Cause: closure mismatch, requested ('self', 'step_function'), but source function had ()\n",
            "To silence this warning, decorate the function with @tf.autograph.experimental.do_not_convert\n",
            "WARNING: AutoGraph could not transform <function Model.make_train_function.<locals>.train_function at 0x7f0e1e8c1ee0> and will run it as-is.\n",
            "Please report this to the TensorFlow team. When filing the bug, set the verbosity to 10 (on Linux, `export AUTOGRAPH_VERBOSITY=10`) and attach the full output.\n",
            "Cause: closure mismatch, requested ('self', 'step_function'), but source function had ()\n",
            "To silence this warning, decorate the function with @tf.autograph.experimental.do_not_convert\n"
          ]
        },
        {
          "name": "stderr",
          "output_type": "stream",
          "text": [
            "2024-04-06 23:38:39.067830: I external/local_xla/xla/stream_executor/cuda/cuda_dnn.cc:454] Loaded cuDNN version 8907\n",
            "2024-04-06 23:38:43.550533: I external/local_xla/xla/service/service.cc:168] XLA service 0x7ef845e4a8b0 initialized for platform CUDA (this does not guarantee that XLA will be used). Devices:\n",
            "2024-04-06 23:38:43.550569: I external/local_xla/xla/service/service.cc:176]   StreamExecutor device (0): NVIDIA A100 80GB PCIe, Compute Capability 8.0\n",
            "2024-04-06 23:38:43.550580: I external/local_xla/xla/service/service.cc:176]   StreamExecutor device (1): NVIDIA A100 80GB PCIe, Compute Capability 8.0\n",
            "2024-04-06 23:38:43.550585: I external/local_xla/xla/service/service.cc:176]   StreamExecutor device (2): NVIDIA A100 80GB PCIe, Compute Capability 8.0\n",
            "2024-04-06 23:38:43.550591: I external/local_xla/xla/service/service.cc:176]   StreamExecutor device (3): NVIDIA A100 80GB PCIe, Compute Capability 8.0\n",
            "2024-04-06 23:38:43.556005: I tensorflow/compiler/mlir/tensorflow/utils/dump_mlir_util.cc:269] disabling MLIR crash reproducer, set env var `MLIR_CRASH_REPRODUCER_DIRECTORY` to enable.\n",
            "WARNING: All log messages before absl::InitializeLog() is called are written to STDERR\n",
            "I0000 00:00:1712439523.629129 3733942 device_compiler.h:186] Compiled cluster using XLA!  This line is logged at most once for the lifetime of the process.\n"
          ]
        },
        {
          "name": "stdout",
          "output_type": "stream",
          "text": [
            "8/8 [==============================] - ETA: 0s - loss: 1.0283 - iou_score: 0.0237 - f1-score: 0.0449WARNING:tensorflow:AutoGraph could not transform <function Model.make_test_function.<locals>.test_function at 0x7f0de86ad120> and will run it as-is.\n",
            "Please report this to the TensorFlow team. When filing the bug, set the verbosity to 10 (on Linux, `export AUTOGRAPH_VERBOSITY=10`) and attach the full output.\n",
            "Cause: closure mismatch, requested ('self', 'step_function'), but source function had ()\n",
            "To silence this warning, decorate the function with @tf.autograph.experimental.do_not_convert\n",
            "WARNING: AutoGraph could not transform <function Model.make_test_function.<locals>.test_function at 0x7f0de86ad120> and will run it as-is.\n",
            "Please report this to the TensorFlow team. When filing the bug, set the verbosity to 10 (on Linux, `export AUTOGRAPH_VERBOSITY=10`) and attach the full output.\n",
            "Cause: closure mismatch, requested ('self', 'step_function'), but source function had ()\n",
            "To silence this warning, decorate the function with @tf.autograph.experimental.do_not_convert\n",
            "8/8 [==============================] - 26s 939ms/step - loss: 1.0283 - iou_score: 0.0237 - f1-score: 0.0449 - val_loss: 1.3111 - val_iou_score: 0.0115 - val_f1-score: 0.0226\n",
            "Epoch 2/100\n",
            "8/8 [==============================] - 1s 156ms/step - loss: 0.9939 - iou_score: 0.0827 - f1-score: 0.1339 - val_loss: 1.1825 - val_iou_score: 0.0390 - val_f1-score: 0.0715\n",
            "Epoch 3/100\n",
            "8/8 [==============================] - 1s 148ms/step - loss: 0.9690 - iou_score: 0.1758 - f1-score: 0.2630 - val_loss: 1.0873 - val_iou_score: 0.0908 - val_f1-score: 0.1465\n",
            "Epoch 4/100\n",
            "8/8 [==============================] - 1s 146ms/step - loss: 0.9515 - iou_score: 0.2943 - f1-score: 0.4089 - val_loss: 1.0038 - val_iou_score: 0.1438 - val_f1-score: 0.2225\n",
            "Epoch 5/100\n",
            "8/8 [==============================] - 1s 146ms/step - loss: 0.9368 - iou_score: 0.3919 - f1-score: 0.5037 - val_loss: 0.9775 - val_iou_score: 0.1861 - val_f1-score: 0.2737\n",
            "Epoch 6/100\n",
            "8/8 [==============================] - 1s 153ms/step - loss: 0.9292 - iou_score: 0.4105 - f1-score: 0.5089 - val_loss: 0.9838 - val_iou_score: 0.1741 - val_f1-score: 0.2538\n",
            "Epoch 7/100\n",
            "8/8 [==============================] - 1s 157ms/step - loss: 0.9226 - iou_score: 0.4212 - f1-score: 0.5163 - val_loss: 0.9604 - val_iou_score: 0.2391 - val_f1-score: 0.3419\n",
            "Epoch 8/100\n",
            "8/8 [==============================] - 1s 152ms/step - loss: 0.9106 - iou_score: 0.4943 - f1-score: 0.5925 - val_loss: 0.9533 - val_iou_score: 0.3148 - val_f1-score: 0.4509\n",
            "Epoch 9/100\n",
            "8/8 [==============================] - 1s 146ms/step - loss: 0.9039 - iou_score: 0.5237 - f1-score: 0.6426 - val_loss: 0.9437 - val_iou_score: 0.3714 - val_f1-score: 0.5136\n",
            "Epoch 10/100\n",
            "8/8 [==============================] - 1s 147ms/step - loss: 0.8985 - iou_score: 0.5503 - f1-score: 0.6780 - val_loss: 0.9165 - val_iou_score: 0.5381 - val_f1-score: 0.6911\n",
            "Epoch 11/100\n",
            "8/8 [==============================] - 1s 145ms/step - loss: 0.8899 - iou_score: 0.5967 - f1-score: 0.7229 - val_loss: 0.9060 - val_iou_score: 0.5712 - val_f1-score: 0.7110\n",
            "Epoch 12/100\n",
            "8/8 [==============================] - 1s 147ms/step - loss: 0.8824 - iou_score: 0.6181 - f1-score: 0.7397 - val_loss: 0.9151 - val_iou_score: 0.5110 - val_f1-score: 0.6433\n",
            "Epoch 13/100\n",
            "8/8 [==============================] - 1s 151ms/step - loss: 0.8782 - iou_score: 0.6217 - f1-score: 0.7395 - val_loss: 0.9034 - val_iou_score: 0.5672 - val_f1-score: 0.6910\n",
            "Epoch 14/100\n",
            "8/8 [==============================] - 1s 158ms/step - loss: 0.8721 - iou_score: 0.6423 - f1-score: 0.7593 - val_loss: 0.8917 - val_iou_score: 0.6219 - val_f1-score: 0.7425\n",
            "Epoch 15/100\n",
            "8/8 [==============================] - 1s 153ms/step - loss: 0.8679 - iou_score: 0.6453 - f1-score: 0.7619 - val_loss: 0.8825 - val_iou_score: 0.6621 - val_f1-score: 0.7813\n",
            "Epoch 16/100\n",
            "8/8 [==============================] - 1s 149ms/step - loss: 0.8635 - iou_score: 0.6488 - f1-score: 0.7612 - val_loss: 0.8809 - val_iou_score: 0.6598 - val_f1-score: 0.7795\n",
            "Epoch 17/100\n",
            "8/8 [==============================] - 1s 146ms/step - loss: 0.8602 - iou_score: 0.6672 - f1-score: 0.7815 - val_loss: 0.8815 - val_iou_score: 0.6361 - val_f1-score: 0.7488\n",
            "Epoch 18/100\n",
            "8/8 [==============================] - 1s 147ms/step - loss: 0.8588 - iou_score: 0.6668 - f1-score: 0.7809 - val_loss: 0.8953 - val_iou_score: 0.5754 - val_f1-score: 0.6945\n",
            "Epoch 19/100\n",
            "8/8 [==============================] - 1s 146ms/step - loss: 0.8539 - iou_score: 0.6726 - f1-score: 0.7842 - val_loss: 0.8710 - val_iou_score: 0.6892 - val_f1-score: 0.8059\n",
            "Epoch 20/100\n",
            "8/8 [==============================] - 1s 146ms/step - loss: 0.8536 - iou_score: 0.6547 - f1-score: 0.7656 - val_loss: 0.8641 - val_iou_score: 0.6949 - val_f1-score: 0.8032\n",
            "Epoch 21/100\n",
            "8/8 [==============================] - 1s 147ms/step - loss: 0.8487 - iou_score: 0.6829 - f1-score: 0.7914 - val_loss: 0.8684 - val_iou_score: 0.6633 - val_f1-score: 0.7699\n",
            "Epoch 22/100\n",
            "8/8 [==============================] - 1s 151ms/step - loss: 0.8455 - iou_score: 0.6753 - f1-score: 0.7855 - val_loss: 0.8633 - val_iou_score: 0.6943 - val_f1-score: 0.8073\n",
            "Epoch 23/100\n",
            "8/8 [==============================] - 1s 159ms/step - loss: 0.8428 - iou_score: 0.6751 - f1-score: 0.7789 - val_loss: 0.8680 - val_iou_score: 0.6415 - val_f1-score: 0.7528\n",
            "Epoch 24/100\n",
            "8/8 [==============================] - 1s 152ms/step - loss: 0.8437 - iou_score: 0.6661 - f1-score: 0.7712 - val_loss: 0.8572 - val_iou_score: 0.6851 - val_f1-score: 0.8001\n",
            "Epoch 25/100\n",
            "8/8 [==============================] - 1s 151ms/step - loss: 0.8410 - iou_score: 0.6839 - f1-score: 0.7922 - val_loss: 0.8540 - val_iou_score: 0.6948 - val_f1-score: 0.8053\n",
            "Epoch 26/100\n",
            "8/8 [==============================] - 1s 155ms/step - loss: 0.8358 - iou_score: 0.6947 - f1-score: 0.8019 - val_loss: 0.8553 - val_iou_score: 0.6889 - val_f1-score: 0.8028\n",
            "Epoch 27/100\n",
            "8/8 [==============================] - 1s 153ms/step - loss: 0.8348 - iou_score: 0.6890 - f1-score: 0.7947 - val_loss: 0.8509 - val_iou_score: 0.6917 - val_f1-score: 0.8031\n",
            "Epoch 28/100\n",
            "8/8 [==============================] - 1s 146ms/step - loss: 0.8321 - iou_score: 0.6940 - f1-score: 0.8001 - val_loss: 0.8487 - val_iou_score: 0.7030 - val_f1-score: 0.8141\n",
            "Epoch 29/100\n",
            "8/8 [==============================] - 1s 145ms/step - loss: 0.8291 - iou_score: 0.7132 - f1-score: 0.8148 - val_loss: 0.8456 - val_iou_score: 0.6976 - val_f1-score: 0.8006\n",
            "Epoch 30/100\n",
            "8/8 [==============================] - 1s 146ms/step - loss: 0.8321 - iou_score: 0.6813 - f1-score: 0.7824 - val_loss: 0.8416 - val_iou_score: 0.7278 - val_f1-score: 0.8302\n",
            "Epoch 31/100\n",
            "8/8 [==============================] - 1s 148ms/step - loss: 0.8258 - iou_score: 0.6895 - f1-score: 0.7890 - val_loss: 0.8374 - val_iou_score: 0.7312 - val_f1-score: 0.8338\n",
            "Epoch 32/100\n",
            "8/8 [==============================] - 1s 154ms/step - loss: 0.8264 - iou_score: 0.6853 - f1-score: 0.7848 - val_loss: 0.8331 - val_iou_score: 0.7406 - val_f1-score: 0.8405\n",
            "Epoch 33/100\n",
            "8/8 [==============================] - 1s 156ms/step - loss: 0.8283 - iou_score: 0.7009 - f1-score: 0.8049 - val_loss: 0.8325 - val_iou_score: 0.7365 - val_f1-score: 0.8379\n",
            "Epoch 34/100\n",
            "8/8 [==============================] - 1s 152ms/step - loss: 0.8253 - iou_score: 0.7024 - f1-score: 0.8031 - val_loss: 0.8464 - val_iou_score: 0.6645 - val_f1-score: 0.7825\n",
            "Epoch 35/100\n",
            "8/8 [==============================] - 1s 147ms/step - loss: 0.8212 - iou_score: 0.7170 - f1-score: 0.8187 - val_loss: 0.8286 - val_iou_score: 0.7316 - val_f1-score: 0.8339\n",
            "Epoch 36/100\n",
            "8/8 [==============================] - 1s 146ms/step - loss: 0.8185 - iou_score: 0.7253 - f1-score: 0.8255 - val_loss: 0.8516 - val_iou_score: 0.6301 - val_f1-score: 0.7510\n",
            "Epoch 37/100\n",
            "8/8 [==============================] - 1s 146ms/step - loss: 0.8226 - iou_score: 0.6697 - f1-score: 0.7735 - val_loss: 0.8230 - val_iou_score: 0.7297 - val_f1-score: 0.8307\n",
            "Epoch 38/100\n",
            "8/8 [==============================] - 1s 146ms/step - loss: 0.8222 - iou_score: 0.7040 - f1-score: 0.8067 - val_loss: 0.8280 - val_iou_score: 0.7126 - val_f1-score: 0.8198\n",
            "Epoch 39/100\n",
            "8/8 [==============================] - 1s 146ms/step - loss: 0.8193 - iou_score: 0.7018 - f1-score: 0.8010 - val_loss: 0.8279 - val_iou_score: 0.6961 - val_f1-score: 0.8011\n",
            "Epoch 40/100\n",
            "8/8 [==============================] - 1s 146ms/step - loss: 0.8249 - iou_score: 0.6969 - f1-score: 0.8009 - val_loss: 0.8237 - val_iou_score: 0.7290 - val_f1-score: 0.8326\n",
            "Epoch 41/100\n",
            "8/8 [==============================] - 1s 146ms/step - loss: 0.8203 - iou_score: 0.6954 - f1-score: 0.7988 - val_loss: 0.8174 - val_iou_score: 0.7515 - val_f1-score: 0.8462\n",
            "Epoch 42/100\n",
            "8/8 [==============================] - 1s 146ms/step - loss: 0.8164 - iou_score: 0.7178 - f1-score: 0.8200 - val_loss: 0.8218 - val_iou_score: 0.7180 - val_f1-score: 0.8236\n",
            "Epoch 43/100\n",
            "8/8 [==============================] - 1s 145ms/step - loss: 0.8141 - iou_score: 0.7316 - f1-score: 0.8270 - val_loss: 0.8186 - val_iou_score: 0.7307 - val_f1-score: 0.8335\n",
            "Epoch 44/100\n",
            "8/8 [==============================] - 1s 150ms/step - loss: 0.8149 - iou_score: 0.7316 - f1-score: 0.8324 - val_loss: 0.8267 - val_iou_score: 0.6948 - val_f1-score: 0.8070\n",
            "Epoch 45/100\n",
            "8/8 [==============================] - 1s 151ms/step - loss: 0.8103 - iou_score: 0.7440 - f1-score: 0.8403 - val_loss: 0.8160 - val_iou_score: 0.7400 - val_f1-score: 0.8396\n",
            "Epoch 46/100\n",
            "8/8 [==============================] - 1s 146ms/step - loss: 0.8097 - iou_score: 0.7434 - f1-score: 0.8402 - val_loss: 0.8160 - val_iou_score: 0.7378 - val_f1-score: 0.8391\n",
            "Epoch 47/100\n",
            "8/8 [==============================] - 1s 146ms/step - loss: 0.8102 - iou_score: 0.7267 - f1-score: 0.8247 - val_loss: 0.8291 - val_iou_score: 0.6757 - val_f1-score: 0.7904\n",
            "Epoch 48/100\n",
            "8/8 [==============================] - 1s 149ms/step - loss: 0.8070 - iou_score: 0.7287 - f1-score: 0.8204 - val_loss: 0.8105 - val_iou_score: 0.7525 - val_f1-score: 0.8495\n",
            "Epoch 49/100\n",
            "8/8 [==============================] - 1s 153ms/step - loss: 0.8134 - iou_score: 0.7282 - f1-score: 0.8284 - val_loss: 0.8239 - val_iou_score: 0.7002 - val_f1-score: 0.8111\n",
            "Epoch 50/100\n",
            "8/8 [==============================] - 1s 155ms/step - loss: 0.8057 - iou_score: 0.7469 - f1-score: 0.8427 - val_loss: 0.8194 - val_iou_score: 0.7140 - val_f1-score: 0.8214\n",
            "Epoch 51/100\n",
            "8/8 [==============================] - 1s 150ms/step - loss: 0.8044 - iou_score: 0.7391 - f1-score: 0.8332 - val_loss: 0.8323 - val_iou_score: 0.6623 - val_f1-score: 0.7796\n",
            "Epoch 52/100\n",
            "8/8 [==============================] - 1s 146ms/step - loss: 0.8076 - iou_score: 0.7401 - f1-score: 0.8342 - val_loss: 0.8108 - val_iou_score: 0.7453 - val_f1-score: 0.8426\n",
            "Epoch 53/100\n",
            "8/8 [==============================] - 1s 149ms/step - loss: 0.8060 - iou_score: 0.7509 - f1-score: 0.8466 - val_loss: 0.8497 - val_iou_score: 0.5843 - val_f1-score: 0.7016\n",
            "Epoch 54/100\n",
            "8/8 [==============================] - 1s 146ms/step - loss: 0.8097 - iou_score: 0.7314 - f1-score: 0.8300 - val_loss: 0.8174 - val_iou_score: 0.7135 - val_f1-score: 0.8153\n",
            "Epoch 55/100\n",
            "8/8 [==============================] - 1s 146ms/step - loss: 0.8037 - iou_score: 0.7560 - f1-score: 0.8500 - val_loss: 0.8129 - val_iou_score: 0.7342 - val_f1-score: 0.8356\n",
            "Epoch 56/100\n",
            "8/8 [==============================] - 1s 146ms/step - loss: 0.8065 - iou_score: 0.7380 - f1-score: 0.8364 - val_loss: 0.8261 - val_iou_score: 0.6794 - val_f1-score: 0.7932\n",
            "Epoch 57/100\n",
            "8/8 [==============================] - 1s 146ms/step - loss: 0.8056 - iou_score: 0.7392 - f1-score: 0.8334 - val_loss: 0.8226 - val_iou_score: 0.6891 - val_f1-score: 0.8014\n",
            "Epoch 58/100\n",
            "8/8 [==============================] - 1s 145ms/step - loss: 0.8013 - iou_score: 0.7545 - f1-score: 0.8463 - val_loss: 0.8061 - val_iou_score: 0.7557 - val_f1-score: 0.8514\n",
            "Epoch 59/100\n",
            "8/8 [==============================] - 1s 145ms/step - loss: 0.8013 - iou_score: 0.7634 - f1-score: 0.8554 - val_loss: 0.8265 - val_iou_score: 0.6711 - val_f1-score: 0.7863\n",
            "Epoch 60/100\n",
            "8/8 [==============================] - 1s 146ms/step - loss: 0.8020 - iou_score: 0.7697 - f1-score: 0.8609 - val_loss: 0.8066 - val_iou_score: 0.7501 - val_f1-score: 0.8478\n",
            "Epoch 61/100\n",
            "8/8 [==============================] - 1s 146ms/step - loss: 0.8019 - iou_score: 0.7607 - f1-score: 0.8517 - val_loss: 0.8208 - val_iou_score: 0.6931 - val_f1-score: 0.8034\n",
            "Epoch 62/100\n",
            "8/8 [==============================] - 1s 146ms/step - loss: 0.8000 - iou_score: 0.7706 - f1-score: 0.8606 - val_loss: 0.8127 - val_iou_score: 0.7223 - val_f1-score: 0.8252\n",
            "Epoch 63/100\n",
            "8/8 [==============================] - 1s 145ms/step - loss: 0.8017 - iou_score: 0.7577 - f1-score: 0.8496 - val_loss: 0.8241 - val_iou_score: 0.6814 - val_f1-score: 0.7940\n",
            "Epoch 64/100\n",
            "8/8 [==============================] - 1s 146ms/step - loss: 0.8043 - iou_score: 0.7479 - f1-score: 0.8395 - val_loss: 0.8147 - val_iou_score: 0.7115 - val_f1-score: 0.8184\n",
            "Epoch 65/100\n",
            "8/8 [==============================] - 1s 145ms/step - loss: 0.8025 - iou_score: 0.7583 - f1-score: 0.8524 - val_loss: 0.8141 - val_iou_score: 0.7173 - val_f1-score: 0.8237\n",
            "Epoch 66/100\n",
            "8/8 [==============================] - 1s 146ms/step - loss: 0.8017 - iou_score: 0.7636 - f1-score: 0.8548 - val_loss: 0.8146 - val_iou_score: 0.7158 - val_f1-score: 0.8213\n",
            "Epoch 67/100\n",
            "8/8 [==============================] - 1s 149ms/step - loss: 0.7998 - iou_score: 0.7711 - f1-score: 0.8617 - val_loss: 0.8137 - val_iou_score: 0.7183 - val_f1-score: 0.8246\n",
            "Epoch 68/100\n",
            "8/8 [==============================] - 1s 148ms/step - loss: 0.7965 - iou_score: 0.7727 - f1-score: 0.8628 - val_loss: 0.8319 - val_iou_score: 0.6538 - val_f1-score: 0.7686\n",
            "Epoch 69/100\n",
            "8/8 [==============================] - 1s 150ms/step - loss: 0.7985 - iou_score: 0.7658 - f1-score: 0.8577 - val_loss: 0.8130 - val_iou_score: 0.7235 - val_f1-score: 0.8192\n",
            "Epoch 70/100\n",
            "8/8 [==============================] - 1s 152ms/step - loss: 0.8000 - iou_score: 0.7471 - f1-score: 0.8346 - val_loss: 0.8170 - val_iou_score: 0.6959 - val_f1-score: 0.8091\n",
            "Epoch 71/100\n",
            "8/8 [==============================] - 1s 152ms/step - loss: 0.8004 - iou_score: 0.7422 - f1-score: 0.8364 - val_loss: 0.8120 - val_iou_score: 0.7214 - val_f1-score: 0.8247\n",
            "Epoch 72/100\n",
            "8/8 [==============================] - 1s 150ms/step - loss: 0.7953 - iou_score: 0.7785 - f1-score: 0.8671 - val_loss: 0.8140 - val_iou_score: 0.7172 - val_f1-score: 0.8182\n",
            "Epoch 73/100\n",
            "8/8 [==============================] - 1s 146ms/step - loss: 0.7989 - iou_score: 0.7637 - f1-score: 0.8545 - val_loss: 0.8099 - val_iou_score: 0.7280 - val_f1-score: 0.8312\n",
            "Epoch 74/100\n",
            "8/8 [==============================] - 1s 146ms/step - loss: 0.7956 - iou_score: 0.7829 - f1-score: 0.8700 - val_loss: 0.8106 - val_iou_score: 0.7277 - val_f1-score: 0.8295\n",
            "Epoch 75/100\n",
            "8/8 [==============================] - 1s 146ms/step - loss: 0.7982 - iou_score: 0.7678 - f1-score: 0.8549 - val_loss: 0.8048 - val_iou_score: 0.7513 - val_f1-score: 0.8457\n",
            "Epoch 76/100\n",
            "8/8 [==============================] - 1s 147ms/step - loss: 0.7946 - iou_score: 0.7663 - f1-score: 0.8539 - val_loss: 0.8048 - val_iou_score: 0.7505 - val_f1-score: 0.8461\n",
            "Epoch 77/100\n",
            "8/8 [==============================] - 1s 146ms/step - loss: 0.7955 - iou_score: 0.7853 - f1-score: 0.8719 - val_loss: 0.8240 - val_iou_score: 0.6797 - val_f1-score: 0.7897\n",
            "Epoch 78/100\n",
            "8/8 [==============================] - 1s 145ms/step - loss: 0.7926 - iou_score: 0.7941 - f1-score: 0.8780 - val_loss: 0.7997 - val_iou_score: 0.7719 - val_f1-score: 0.8613\n",
            "Epoch 79/100\n",
            "8/8 [==============================] - 1s 145ms/step - loss: 0.7943 - iou_score: 0.7830 - f1-score: 0.8676 - val_loss: 0.8128 - val_iou_score: 0.7173 - val_f1-score: 0.8224\n",
            "Epoch 80/100\n",
            "8/8 [==============================] - 1s 146ms/step - loss: 0.7931 - iou_score: 0.7899 - f1-score: 0.8746 - val_loss: 0.8020 - val_iou_score: 0.7616 - val_f1-score: 0.8543\n",
            "Epoch 81/100\n",
            "8/8 [==============================] - 1s 146ms/step - loss: 0.7964 - iou_score: 0.7725 - f1-score: 0.8594 - val_loss: 0.8058 - val_iou_score: 0.7456 - val_f1-score: 0.8425\n",
            "Epoch 82/100\n",
            "8/8 [==============================] - 1s 146ms/step - loss: 0.7939 - iou_score: 0.7899 - f1-score: 0.8741 - val_loss: 0.8139 - val_iou_score: 0.7133 - val_f1-score: 0.8182\n",
            "Epoch 83/100\n",
            "8/8 [==============================] - 1s 146ms/step - loss: 0.7930 - iou_score: 0.7892 - f1-score: 0.8741 - val_loss: 0.8042 - val_iou_score: 0.7518 - val_f1-score: 0.8461\n",
            "Epoch 84/100\n",
            "8/8 [==============================] - 1s 146ms/step - loss: 0.7905 - iou_score: 0.7924 - f1-score: 0.8757 - val_loss: 0.8060 - val_iou_score: 0.7441 - val_f1-score: 0.8429\n",
            "Epoch 85/100\n",
            "8/8 [==============================] - 1s 146ms/step - loss: 0.7929 - iou_score: 0.7838 - f1-score: 0.8712 - val_loss: 0.8120 - val_iou_score: 0.7243 - val_f1-score: 0.8237\n",
            "Epoch 86/100\n",
            "8/8 [==============================] - 1s 147ms/step - loss: 0.7941 - iou_score: 0.7622 - f1-score: 0.8490 - val_loss: 0.8015 - val_iou_score: 0.7621 - val_f1-score: 0.8541\n",
            "Epoch 87/100\n",
            "8/8 [==============================] - 1s 145ms/step - loss: 0.7953 - iou_score: 0.7749 - f1-score: 0.8640 - val_loss: 0.8274 - val_iou_score: 0.6614 - val_f1-score: 0.7774\n",
            "Epoch 88/100\n",
            "8/8 [==============================] - 1s 146ms/step - loss: 0.7922 - iou_score: 0.7914 - f1-score: 0.8762 - val_loss: 0.8084 - val_iou_score: 0.7347 - val_f1-score: 0.8324\n",
            "Epoch 89/100\n",
            "8/8 [==============================] - 1s 146ms/step - loss: 0.7918 - iou_score: 0.7876 - f1-score: 0.8717 - val_loss: 0.8038 - val_iou_score: 0.7534 - val_f1-score: 0.8482\n",
            "Epoch 90/100\n",
            "8/8 [==============================] - 1s 146ms/step - loss: 0.7900 - iou_score: 0.8023 - f1-score: 0.8836 - val_loss: 0.8026 - val_iou_score: 0.7566 - val_f1-score: 0.8509\n",
            "Epoch 91/100\n",
            "8/8 [==============================] - 1s 146ms/step - loss: 0.7914 - iou_score: 0.8009 - f1-score: 0.8828 - val_loss: 0.8069 - val_iou_score: 0.7407 - val_f1-score: 0.8389\n",
            "Epoch 92/100\n",
            "8/8 [==============================] - 1s 146ms/step - loss: 0.7896 - iou_score: 0.8058 - f1-score: 0.8863 - val_loss: 0.8020 - val_iou_score: 0.7608 - val_f1-score: 0.8524\n",
            "Epoch 93/100\n",
            "8/8 [==============================] - 1s 152ms/step - loss: 0.7878 - iou_score: 0.8093 - f1-score: 0.8886 - val_loss: 0.8147 - val_iou_score: 0.7097 - val_f1-score: 0.8156\n",
            "Epoch 94/100\n",
            "8/8 [==============================] - 1s 150ms/step - loss: 0.7899 - iou_score: 0.8041 - f1-score: 0.8845 - val_loss: 0.8094 - val_iou_score: 0.7340 - val_f1-score: 0.8295\n",
            "Epoch 95/100\n",
            "8/8 [==============================] - 1s 149ms/step - loss: 0.7934 - iou_score: 0.7819 - f1-score: 0.8690 - val_loss: 0.8147 - val_iou_score: 0.7083 - val_f1-score: 0.8161\n",
            "Epoch 96/100\n",
            "8/8 [==============================] - 1s 149ms/step - loss: 0.7911 - iou_score: 0.8011 - f1-score: 0.8814 - val_loss: 0.8095 - val_iou_score: 0.7347 - val_f1-score: 0.8304\n",
            "Epoch 97/100\n",
            "8/8 [==============================] - 1s 149ms/step - loss: 0.7920 - iou_score: 0.7914 - f1-score: 0.8752 - val_loss: 0.8161 - val_iou_score: 0.7049 - val_f1-score: 0.8134\n",
            "Epoch 98/100\n",
            "8/8 [==============================] - 1s 147ms/step - loss: 0.7898 - iou_score: 0.7985 - f1-score: 0.8791 - val_loss: 0.8081 - val_iou_score: 0.7405 - val_f1-score: 0.8311\n",
            "Epoch 99/100\n",
            "8/8 [==============================] - 1s 146ms/step - loss: 0.7901 - iou_score: 0.7989 - f1-score: 0.8814 - val_loss: 0.8078 - val_iou_score: 0.7334 - val_f1-score: 0.8349\n",
            "Epoch 100/100\n",
            "8/8 [==============================] - 1s 149ms/step - loss: 0.7909 - iou_score: 0.7731 - f1-score: 0.8509 - val_loss: 0.8105 - val_iou_score: 0.7279 - val_f1-score: 0.8254\n"
          ]
        }
      ],
      "source": [
        "#Fit the model\n",
        "history=model.fit(X_train_prep, \n",
        "          y_train,\n",
        "          batch_size=8, \n",
        "          epochs=100,\n",
        "          verbose=1,\n",
        "          validation_data=(X_test_prep, y_test))"
      ]
    },
    {
      "cell_type": "markdown",
      "metadata": {
        "id": "whtF9V1npJ8s"
      },
      "source": []
    },
    {
      "cell_type": "code",
      "execution_count": 22,
      "metadata": {
        "id": "LVTe3TrrE6DS"
      },
      "outputs": [
        {
          "name": "stderr",
          "output_type": "stream",
          "text": [
            "/home/luser/anaconda3/envs/stlr3/lib/python3.11/site-packages/keras/src/engine/training.py:3103: UserWarning: You are saving your model as an HDF5 file via `model.save()`. This file format is considered legacy. We recommend using instead the native Keras format, e.g. `model.save('my_model.keras')`.\n",
            "  \n"
          ]
        }
      ],
      "source": [
        "#Save model for future use\n",
        "model.save('/home/luser/stelar_3d/drive/MyDrive/Colab Notebooks/data/sandstone_3d/3D_model_vgg16_100epochs.h5')"
      ]
    },
    {
      "cell_type": "code",
      "execution_count": 23,
      "metadata": {
        "colab": {
          "base_uri": "https://localhost:8080/",
          "height": 573
        },
        "id": "5Nk4OFMzAoLk",
        "outputId": "8a6a4c7e-f6a4-41b1-ddb0-8723f229014a"
      },
      "outputs": [
        {
          "data": {
            "image/png": "[encoded data removed]",
            "text/plain": [
              "<Figure size 640x480 with 1 Axes>"
            ]
          },
          "metadata": {},
          "output_type": "display_data"
        },
        {
          "data": {
            "image/png": "[encoded data removed]",
            "text/plain": [
              "<Figure size 640x480 with 1 Axes>"
            ]
          },
          "metadata": {},
          "output_type": "display_data"
        }
      ],
      "source": [
        "###\n",
        "#plot the training and validation IoU and loss at each epoch\n",
        "loss = history.history['loss']\n",
        "val_loss = history.history['val_loss']\n",
        "epochs = range(1, len(loss) + 1)\n",
        "plt.plot(epochs, loss, 'y', label='Training loss')\n",
        "plt.plot(epochs, val_loss, 'r', label='Validation loss')\n",
        "plt.title('Training and validation loss')\n",
        "plt.xlabel('Epochs')\n",
        "plt.ylabel('Loss')\n",
        "plt.legend()\n",
        "plt.show()\n",
        "\n",
        "acc = history.history['iou_score']\n",
        "val_acc = history.history['val_iou_score']\n",
        "\n",
        "plt.plot(epochs, acc, 'y', label='Training IOU')\n",
        "plt.plot(epochs, val_acc, 'r', label='Validation IOU')\n",
        "plt.title('Training and validation IOU')\n",
        "plt.xlabel('Epochs')\n",
        "plt.ylabel('IOU')\n",
        "plt.legend()\n",
        "plt.show()"
      ]
    },
    {
      "cell_type": "code",
      "execution_count": 24,
      "metadata": {
        "id": "lwjlR25nF54w"
      },
      "outputs": [],
      "source": [
        "#Load the pretrained model for testing and predictions. \n",
        "from keras.models import load_model\n",
        "my_model = load_model('/home/luser/stelar_3d/drive/MyDrive/Colab Notebooks/data/sandstone_3d/3D_model_vgg16_100epochs.h5', compile=False)\n",
        "#If you load a different model do not forget to preprocess accordingly. "
      ]
    },
    {
      "cell_type": "code",
      "execution_count": 25,
      "metadata": {
        "id": "kTAQpcUQA7SN"
      },
      "outputs": [
        {
          "name": "stdout",
          "output_type": "stream",
          "text": [
            "WARNING:tensorflow:AutoGraph could not transform <function Model.make_predict_function.<locals>.predict_function at 0x7f0de8767e20> and will run it as-is.\n",
            "Please report this to the TensorFlow team. When filing the bug, set the verbosity to 10 (on Linux, `export AUTOGRAPH_VERBOSITY=10`) and attach the full output.\n",
            "Cause: closure mismatch, requested ('self', 'step_function'), but source function had ()\n",
            "To silence this warning, decorate the function with @tf.autograph.experimental.do_not_convert\n",
            "WARNING: AutoGraph could not transform <function Model.make_predict_function.<locals>.predict_function at 0x7f0de8767e20> and will run it as-is.\n",
            "Please report this to the TensorFlow team. When filing the bug, set the verbosity to 10 (on Linux, `export AUTOGRAPH_VERBOSITY=10`) and attach the full output.\n",
            "Cause: closure mismatch, requested ('self', 'step_function'), but source function had ()\n",
            "To silence this warning, decorate the function with @tf.autograph.experimental.do_not_convert\n",
            "1/1 [==============================] - 1s 597ms/step\n"
          ]
        }
      ],
      "source": [
        "#Predict on the test data\n",
        "y_pred=my_model.predict(X_test)\n",
        "y_pred_argmax=np.argmax(y_pred, axis=4)\n",
        "y_test_argmax = np.argmax(y_test, axis=4)\n"
      ]
    },
    {
      "cell_type": "code",
      "execution_count": 26,
      "metadata": {
        "id": "FjHYiOqYBifK"
      },
      "outputs": [
        {
          "name": "stdout",
          "output_type": "stream",
          "text": [
            "(7, 64, 64, 64)\n",
            "(7, 64, 64, 64)\n",
            "[2 3]\n"
          ]
        }
      ],
      "source": [
        "print(y_pred_argmax.shape)\n",
        "print(y_test_argmax.shape)\n",
        "print(np.unique(y_pred_argmax))"
      ]
    },
    {
      "cell_type": "code",
      "execution_count": 27,
      "metadata": {
        "id": "3lv4EhPCHsrz"
      },
      "outputs": [],
      "source": [
        "#Using built in keras function for IoU\n",
        "#Only works on TF > 2.0\n",
        "#from keras.metrics import MeanIoU\n",
        "#from keras.metrics import MeanIoU\n",
        "#n_classes = 4\n",
        "#IOU_keras = MeanIoU(num_classes=n_classes)  \n",
        "#IOU_keras.update_state(y_test_argmax, y_pred_argmax)\n",
        "#print(\"Mean IoU =\", IOU_keras.result().numpy())"
      ]
    },
    {
      "cell_type": "code",
      "execution_count": 28,
      "metadata": {
        "id": "BPcRSfobCBrE"
      },
      "outputs": [
        {
          "name": "stdout",
          "output_type": "stream",
          "text": [
            "1/1 [==============================] - 1s 1s/step\n",
            "(64, 64, 64)\n"
          ]
        }
      ],
      "source": [
        "#Test some random images\n",
        "import random\n",
        "test_img_number = random.randint(0, len(X_test))\n",
        "test_img = X_test[test_img_number]\n",
        "ground_truth=y_test[test_img_number]\n",
        "\n",
        "test_img_input=np.expand_dims(test_img, 0)\n",
        "test_img_input1 = preprocess_input(test_img_input)\n",
        "\n",
        "test_pred1 = my_model.predict(test_img_input1)\n",
        "test_prediction1 = np.argmax(test_pred1, axis=4)[0,:,:,:]\n",
        "print(test_prediction1.shape)\n",
        "\n",
        "\n"
      ]
    },
    {
      "cell_type": "code",
      "execution_count": 29,
      "metadata": {
        "id": "KGQr-RxdFYuF"
      },
      "outputs": [
        {
          "name": "stdout",
          "output_type": "stream",
          "text": [
            "(64, 64, 64, 3)\n"
          ]
        }
      ],
      "source": [
        "ground_truth_argmax = np.argmax(ground_truth, axis=3)\n",
        "print(test_img.shape)"
      ]
    },
    {
      "cell_type": "code",
      "execution_count": 30,
      "metadata": {
        "colab": {
          "base_uri": "https://localhost:8080/",
          "height": 261
        },
        "id": "7W9XsGK7FMuN",
        "outputId": "549c1b79-1130-4100-db4b-54821b56a8e4"
      },
      "outputs": [
        {
          "data": {
            "image/png": "[encoded data removed]",
            "text/plain": [
              "<Figure size 1200x800 with 3 Axes>"
            ]
          },
          "metadata": {},
          "output_type": "display_data"
        }
      ],
      "source": [
        "#Plot individual slices from test predictions for verification\n",
        "slice = 14\n",
        "plt.figure(figsize=(12, 8))\n",
        "plt.subplot(231)\n",
        "plt.title('Testing Image')\n",
        "plt.imshow(test_img[slice,:,:,0], cmap='gray')\n",
        "plt.subplot(232)\n",
        "plt.title('Testing Label')\n",
        "plt.imshow(ground_truth_argmax[slice,:,:])\n",
        "plt.subplot(233)\n",
        "plt.title('Prediction on test image')\n",
        "plt.imshow(test_prediction1[slice,:,:])\n",
        "plt.show()"
      ]
    },
    {
      "cell_type": "markdown",
      "metadata": {
        "id": "CNi7_zeC7SmG"
      },
      "source": [
        "Now segment the full volume using the trained model."
      ]
    },
    {
      "cell_type": "code",
      "execution_count": 32,
      "metadata": {
        "id": "C1eYttiN7tH4"
      },
      "outputs": [
        {
          "name": "stdout",
          "output_type": "stream",
          "text": [
            "(448, 512, 512)\n",
            "(7, 8, 8, 64, 64, 64)\n"
          ]
        }
      ],
      "source": [
        "#Break the large image (volume) into patches of same size as the training images (patches)\n",
        "large_image = io.imread('/home/luser/stelar_3d/drive/MyDrive/Colab Notebooks/data/sandstone_3d/all_images/448_images_512x512.tif')\n",
        "patches = patchify(large_image, (64, 64, 64), step=64)  #Step=256 for 256 patches means no overlap\n",
        "print(large_image.shape)\n",
        "print(patches.shape)"
      ]
    },
    {
      "cell_type": "code",
      "execution_count": 33,
      "metadata": {
        "id": "G6KXGtea89wi"
      },
      "outputs": [
        {
          "name": "stdout",
          "output_type": "stream",
          "text": [
            "1/1 [==============================] - 0s 41ms/step\n",
            "1/1 [==============================] - 0s 38ms/step\n",
            "1/1 [==============================] - 0s 37ms/step\n",
            "1/1 [==============================] - 0s 38ms/step\n",
            "1/1 [==============================] - 0s 37ms/step\n",
            "1/1 [==============================] - 0s 38ms/step\n",
            "1/1 [==============================] - 0s 38ms/step\n",
            "1/1 [==============================] - 0s 37ms/step\n",
            "1/1 [==============================] - 0s 38ms/step\n",
            "1/1 [==============================] - 0s 36ms/step\n",
            "1/1 [==============================] - 0s 39ms/step\n",
            "1/1 [==============================] - 0s 38ms/step\n",
            "1/1 [==============================] - 0s 37ms/step\n",
            "1/1 [==============================] - 0s 39ms/step\n",
            "1/1 [==============================] - 0s 38ms/step\n",
            "1/1 [==============================] - 0s 38ms/step\n",
            "1/1 [==============================] - 0s 38ms/step\n",
            "1/1 [==============================] - 0s 38ms/step\n",
            "1/1 [==============================] - 0s 37ms/step\n",
            "1/1 [==============================] - 0s 37ms/step\n",
            "1/1 [==============================] - 0s 37ms/step\n",
            "1/1 [==============================] - 0s 38ms/step\n",
            "1/1 [==============================] - 0s 38ms/step\n",
            "1/1 [==============================] - 0s 37ms/step\n",
            "1/1 [==============================] - 0s 38ms/step\n",
            "1/1 [==============================] - 0s 37ms/step\n",
            "1/1 [==============================] - 0s 37ms/step\n",
            "1/1 [==============================] - 0s 38ms/step\n",
            "1/1 [==============================] - 0s 38ms/step\n",
            "1/1 [==============================] - 0s 37ms/step\n",
            "1/1 [==============================] - 0s 38ms/step\n",
            "1/1 [==============================] - 0s 37ms/step\n",
            "1/1 [==============================] - 0s 40ms/step\n",
            "1/1 [==============================] - 0s 38ms/step\n",
            "1/1 [==============================] - 0s 38ms/step\n",
            "1/1 [==============================] - 0s 38ms/step\n",
            "1/1 [==============================] - 0s 38ms/step\n",
            "1/1 [==============================] - 0s 37ms/step\n",
            "1/1 [==============================] - 0s 37ms/step\n",
            "1/1 [==============================] - 0s 38ms/step\n",
            "1/1 [==============================] - 0s 37ms/step\n",
            "1/1 [==============================] - 0s 38ms/step\n",
            "1/1 [==============================] - 0s 37ms/step\n",
            "1/1 [==============================] - 0s 37ms/step\n",
            "1/1 [==============================] - 0s 37ms/step\n",
            "1/1 [==============================] - 0s 39ms/step\n",
            "1/1 [==============================] - 0s 39ms/step\n",
            "1/1 [==============================] - 0s 38ms/step\n",
            "1/1 [==============================] - 0s 40ms/step\n",
            "1/1 [==============================] - 0s 40ms/step\n",
            "1/1 [==============================] - 0s 38ms/step\n",
            "1/1 [==============================] - 0s 38ms/step\n",
            "1/1 [==============================] - 0s 40ms/step\n",
            "1/1 [==============================] - 0s 38ms/step\n",
            "1/1 [==============================] - 0s 37ms/step\n",
            "1/1 [==============================] - 0s 37ms/step\n",
            "1/1 [==============================] - 0s 37ms/step\n",
            "1/1 [==============================] - 0s 38ms/step\n",
            "1/1 [==============================] - 0s 37ms/step\n",
            "1/1 [==============================] - 0s 37ms/step\n",
            "1/1 [==============================] - 0s 38ms/step\n",
            "1/1 [==============================] - 0s 37ms/step\n",
            "1/1 [==============================] - 0s 40ms/step\n",
            "1/1 [==============================] - 0s 39ms/step\n",
            "1/1 [==============================] - 0s 38ms/step\n",
            "1/1 [==============================] - 0s 38ms/step\n",
            "1/1 [==============================] - 0s 38ms/step\n",
            "1/1 [==============================] - 0s 39ms/step\n",
            "1/1 [==============================] - 0s 38ms/step\n",
            "1/1 [==============================] - 0s 38ms/step\n",
            "1/1 [==============================] - 0s 37ms/step\n",
            "1/1 [==============================] - 0s 38ms/step\n",
            "1/1 [==============================] - 0s 38ms/step\n",
            "1/1 [==============================] - 0s 37ms/step\n",
            "1/1 [==============================] - 0s 38ms/step\n",
            "1/1 [==============================] - 0s 37ms/step\n",
            "1/1 [==============================] - 0s 38ms/step\n",
            "1/1 [==============================] - 0s 38ms/step\n",
            "1/1 [==============================] - 0s 38ms/step\n",
            "1/1 [==============================] - 0s 38ms/step\n",
            "1/1 [==============================] - 0s 38ms/step\n",
            "1/1 [==============================] - 0s 37ms/step\n",
            "1/1 [==============================] - 0s 40ms/step\n",
            "1/1 [==============================] - 0s 38ms/step\n",
            "1/1 [==============================] - 0s 39ms/step\n",
            "1/1 [==============================] - 0s 38ms/step\n",
            "1/1 [==============================] - 0s 38ms/step\n",
            "1/1 [==============================] - 0s 37ms/step\n",
            "1/1 [==============================] - 0s 38ms/step\n",
            "1/1 [==============================] - 0s 37ms/step\n",
            "1/1 [==============================] - 0s 38ms/step\n",
            "1/1 [==============================] - 0s 39ms/step\n",
            "1/1 [==============================] - 0s 37ms/step\n",
            "1/1 [==============================] - 0s 38ms/step\n",
            "1/1 [==============================] - 0s 39ms/step\n",
            "1/1 [==============================] - 0s 46ms/step\n",
            "1/1 [==============================] - 0s 38ms/step\n",
            "1/1 [==============================] - 0s 38ms/step\n",
            "1/1 [==============================] - 0s 37ms/step\n",
            "1/1 [==============================] - 0s 38ms/step\n",
            "1/1 [==============================] - 0s 37ms/step\n",
            "1/1 [==============================] - 0s 39ms/step\n",
            "1/1 [==============================] - 0s 38ms/step\n",
            "1/1 [==============================] - 0s 38ms/step\n",
            "1/1 [==============================] - 0s 37ms/step\n",
            "1/1 [==============================] - 0s 38ms/step\n",
            "1/1 [==============================] - 0s 37ms/step\n",
            "1/1 [==============================] - 0s 38ms/step\n",
            "1/1 [==============================] - 0s 38ms/step\n",
            "1/1 [==============================] - 0s 37ms/step\n",
            "1/1 [==============================] - 0s 37ms/step\n",
            "1/1 [==============================] - 0s 37ms/step\n",
            "1/1 [==============================] - 0s 38ms/step\n",
            "1/1 [==============================] - 0s 37ms/step\n",
            "1/1 [==============================] - 0s 39ms/step\n",
            "1/1 [==============================] - 0s 38ms/step\n",
            "1/1 [==============================] - 0s 38ms/step\n",
            "1/1 [==============================] - 0s 38ms/step\n",
            "1/1 [==============================] - 0s 39ms/step\n",
            "1/1 [==============================] - 0s 38ms/step\n",
            "1/1 [==============================] - 0s 38ms/step\n",
            "1/1 [==============================] - 0s 39ms/step\n",
            "1/1 [==============================] - 0s 38ms/step\n",
            "1/1 [==============================] - 0s 37ms/step\n",
            "1/1 [==============================] - 0s 37ms/step\n",
            "1/1 [==============================] - 0s 37ms/step\n",
            "1/1 [==============================] - 0s 38ms/step\n",
            "1/1 [==============================] - 0s 38ms/step\n",
            "1/1 [==============================] - 0s 37ms/step\n",
            "1/1 [==============================] - 0s 38ms/step\n",
            "1/1 [==============================] - 0s 37ms/step\n",
            "1/1 [==============================] - 0s 40ms/step\n",
            "1/1 [==============================] - 0s 38ms/step\n",
            "1/1 [==============================] - 0s 38ms/step\n",
            "1/1 [==============================] - 0s 38ms/step\n",
            "1/1 [==============================] - 0s 38ms/step\n",
            "1/1 [==============================] - 0s 38ms/step\n",
            "1/1 [==============================] - 0s 38ms/step\n",
            "1/1 [==============================] - 0s 39ms/step\n",
            "1/1 [==============================] - 0s 37ms/step\n",
            "1/1 [==============================] - 0s 38ms/step\n",
            "1/1 [==============================] - 0s 38ms/step\n",
            "1/1 [==============================] - 0s 37ms/step\n",
            "1/1 [==============================] - 0s 38ms/step\n",
            "1/1 [==============================] - 0s 37ms/step\n",
            "1/1 [==============================] - 0s 39ms/step\n",
            "1/1 [==============================] - 0s 38ms/step\n",
            "1/1 [==============================] - 0s 38ms/step\n",
            "1/1 [==============================] - 0s 41ms/step\n",
            "1/1 [==============================] - 0s 39ms/step\n",
            "1/1 [==============================] - 0s 39ms/step\n",
            "1/1 [==============================] - 0s 38ms/step\n",
            "1/1 [==============================] - 0s 38ms/step\n",
            "1/1 [==============================] - 0s 38ms/step\n",
            "1/1 [==============================] - 0s 39ms/step\n",
            "1/1 [==============================] - 0s 38ms/step\n",
            "1/1 [==============================] - 0s 37ms/step\n",
            "1/1 [==============================] - 0s 37ms/step\n",
            "1/1 [==============================] - 0s 37ms/step\n",
            "1/1 [==============================] - 0s 38ms/step\n",
            "1/1 [==============================] - 0s 38ms/step\n",
            "1/1 [==============================] - 0s 38ms/step\n",
            "1/1 [==============================] - 0s 39ms/step\n",
            "1/1 [==============================] - 0s 38ms/step\n",
            "1/1 [==============================] - 0s 37ms/step\n",
            "1/1 [==============================] - 0s 41ms/step\n",
            "1/1 [==============================] - 0s 39ms/step\n",
            "1/1 [==============================] - 0s 40ms/step\n",
            "1/1 [==============================] - 0s 38ms/step\n",
            "1/1 [==============================] - 0s 39ms/step\n",
            "1/1 [==============================] - 0s 40ms/step\n",
            "1/1 [==============================] - 0s 39ms/step\n",
            "1/1 [==============================] - 0s 38ms/step\n",
            "1/1 [==============================] - 0s 37ms/step\n",
            "1/1 [==============================] - 0s 38ms/step\n",
            "1/1 [==============================] - 0s 37ms/step\n",
            "1/1 [==============================] - 0s 41ms/step\n",
            "1/1 [==============================] - 0s 38ms/step\n",
            "1/1 [==============================] - 0s 37ms/step\n",
            "1/1 [==============================] - 0s 38ms/step\n",
            "1/1 [==============================] - 0s 38ms/step\n",
            "1/1 [==============================] - 0s 38ms/step\n",
            "1/1 [==============================] - 0s 44ms/step\n",
            "1/1 [==============================] - 0s 39ms/step\n",
            "1/1 [==============================] - 0s 40ms/step\n",
            "1/1 [==============================] - 0s 38ms/step\n",
            "1/1 [==============================] - 0s 38ms/step\n",
            "1/1 [==============================] - 0s 37ms/step\n",
            "1/1 [==============================] - 0s 40ms/step\n",
            "1/1 [==============================] - 0s 37ms/step\n",
            "1/1 [==============================] - 0s 37ms/step\n",
            "1/1 [==============================] - 0s 38ms/step\n",
            "1/1 [==============================] - 0s 37ms/step\n",
            "1/1 [==============================] - 0s 38ms/step\n",
            "1/1 [==============================] - 0s 40ms/step\n",
            "1/1 [==============================] - 0s 37ms/step\n",
            "1/1 [==============================] - 0s 38ms/step\n",
            "1/1 [==============================] - 0s 38ms/step\n",
            "1/1 [==============================] - 0s 37ms/step\n",
            "1/1 [==============================] - 0s 38ms/step\n",
            "1/1 [==============================] - 0s 40ms/step\n",
            "1/1 [==============================] - 0s 40ms/step\n",
            "1/1 [==============================] - 0s 39ms/step\n",
            "1/1 [==============================] - 0s 39ms/step\n",
            "1/1 [==============================] - 0s 38ms/step\n",
            "1/1 [==============================] - 0s 39ms/step\n",
            "1/1 [==============================] - 0s 39ms/step\n",
            "1/1 [==============================] - 0s 38ms/step\n",
            "1/1 [==============================] - 0s 38ms/step\n",
            "1/1 [==============================] - 0s 37ms/step\n",
            "1/1 [==============================] - 0s 38ms/step\n",
            "1/1 [==============================] - 0s 38ms/step\n",
            "1/1 [==============================] - 0s 37ms/step\n",
            "1/1 [==============================] - 0s 37ms/step\n",
            "1/1 [==============================] - 0s 40ms/step\n",
            "1/1 [==============================] - 0s 38ms/step\n",
            "1/1 [==============================] - 0s 39ms/step\n",
            "1/1 [==============================] - 0s 40ms/step\n",
            "1/1 [==============================] - 0s 39ms/step\n",
            "1/1 [==============================] - 0s 39ms/step\n",
            "1/1 [==============================] - 0s 39ms/step\n",
            "1/1 [==============================] - 0s 40ms/step\n",
            "1/1 [==============================] - 0s 39ms/step\n",
            "1/1 [==============================] - 0s 37ms/step\n",
            "1/1 [==============================] - 0s 38ms/step\n",
            "1/1 [==============================] - 0s 38ms/step\n",
            "1/1 [==============================] - 0s 37ms/step\n",
            "1/1 [==============================] - 0s 38ms/step\n",
            "1/1 [==============================] - 0s 37ms/step\n",
            "1/1 [==============================] - 0s 37ms/step\n",
            "1/1 [==============================] - 0s 38ms/step\n",
            "1/1 [==============================] - 0s 39ms/step\n",
            "1/1 [==============================] - 0s 37ms/step\n",
            "1/1 [==============================] - 0s 40ms/step\n",
            "1/1 [==============================] - 0s 38ms/step\n",
            "1/1 [==============================] - 0s 39ms/step\n",
            "1/1 [==============================] - 0s 40ms/step\n",
            "1/1 [==============================] - 0s 38ms/step\n",
            "1/1 [==============================] - 0s 37ms/step\n",
            "1/1 [==============================] - 0s 38ms/step\n",
            "1/1 [==============================] - 0s 38ms/step\n",
            "1/1 [==============================] - 0s 43ms/step\n",
            "1/1 [==============================] - 0s 38ms/step\n",
            "1/1 [==============================] - 0s 37ms/step\n",
            "1/1 [==============================] - 0s 39ms/step\n",
            "1/1 [==============================] - 0s 38ms/step\n",
            "1/1 [==============================] - 0s 37ms/step\n",
            "1/1 [==============================] - 0s 38ms/step\n",
            "1/1 [==============================] - 0s 38ms/step\n",
            "1/1 [==============================] - 0s 38ms/step\n",
            "1/1 [==============================] - 0s 39ms/step\n",
            "1/1 [==============================] - 0s 38ms/step\n",
            "1/1 [==============================] - 0s 38ms/step\n",
            "1/1 [==============================] - 0s 38ms/step\n",
            "1/1 [==============================] - 0s 37ms/step\n",
            "1/1 [==============================] - 0s 37ms/step\n",
            "1/1 [==============================] - 0s 38ms/step\n",
            "1/1 [==============================] - 0s 41ms/step\n",
            "1/1 [==============================] - 0s 38ms/step\n",
            "1/1 [==============================] - 0s 37ms/step\n",
            "1/1 [==============================] - 0s 38ms/step\n",
            "1/1 [==============================] - 0s 39ms/step\n",
            "1/1 [==============================] - 0s 37ms/step\n",
            "1/1 [==============================] - 0s 37ms/step\n",
            "1/1 [==============================] - 0s 41ms/step\n",
            "1/1 [==============================] - 0s 37ms/step\n",
            "1/1 [==============================] - 0s 38ms/step\n",
            "1/1 [==============================] - 0s 37ms/step\n",
            "1/1 [==============================] - 0s 39ms/step\n",
            "1/1 [==============================] - 0s 38ms/step\n",
            "1/1 [==============================] - 0s 38ms/step\n",
            "1/1 [==============================] - 0s 38ms/step\n",
            "1/1 [==============================] - 0s 37ms/step\n",
            "1/1 [==============================] - 0s 37ms/step\n",
            "1/1 [==============================] - 0s 38ms/step\n",
            "1/1 [==============================] - 0s 37ms/step\n",
            "1/1 [==============================] - 0s 37ms/step\n",
            "1/1 [==============================] - 0s 39ms/step\n",
            "1/1 [==============================] - 0s 37ms/step\n",
            "1/1 [==============================] - 0s 37ms/step\n",
            "1/1 [==============================] - 0s 38ms/step\n",
            "1/1 [==============================] - 0s 37ms/step\n",
            "1/1 [==============================] - 0s 37ms/step\n",
            "1/1 [==============================] - 0s 38ms/step\n",
            "1/1 [==============================] - 0s 37ms/step\n",
            "1/1 [==============================] - 0s 37ms/step\n",
            "1/1 [==============================] - 0s 37ms/step\n",
            "1/1 [==============================] - 0s 37ms/step\n",
            "1/1 [==============================] - 0s 38ms/step\n",
            "1/1 [==============================] - 0s 38ms/step\n",
            "1/1 [==============================] - 0s 39ms/step\n",
            "1/1 [==============================] - 0s 38ms/step\n",
            "1/1 [==============================] - 0s 37ms/step\n",
            "1/1 [==============================] - 0s 38ms/step\n",
            "1/1 [==============================] - 0s 37ms/step\n",
            "1/1 [==============================] - 0s 38ms/step\n",
            "1/1 [==============================] - 0s 38ms/step\n",
            "1/1 [==============================] - 0s 37ms/step\n",
            "1/1 [==============================] - 0s 37ms/step\n",
            "1/1 [==============================] - 0s 38ms/step\n",
            "1/1 [==============================] - 0s 37ms/step\n",
            "1/1 [==============================] - 0s 37ms/step\n",
            "1/1 [==============================] - 0s 37ms/step\n",
            "1/1 [==============================] - 0s 37ms/step\n",
            "1/1 [==============================] - 0s 37ms/step\n",
            "1/1 [==============================] - 0s 38ms/step\n",
            "1/1 [==============================] - 0s 37ms/step\n",
            "1/1 [==============================] - 0s 39ms/step\n",
            "1/1 [==============================] - 0s 37ms/step\n",
            "1/1 [==============================] - 0s 37ms/step\n",
            "1/1 [==============================] - 0s 37ms/step\n",
            "1/1 [==============================] - 0s 37ms/step\n",
            "1/1 [==============================] - 0s 39ms/step\n",
            "1/1 [==============================] - 0s 38ms/step\n",
            "1/1 [==============================] - 0s 37ms/step\n",
            "1/1 [==============================] - 0s 37ms/step\n",
            "1/1 [==============================] - 0s 40ms/step\n",
            "1/1 [==============================] - 0s 41ms/step\n",
            "1/1 [==============================] - 0s 40ms/step\n",
            "1/1 [==============================] - 0s 39ms/step\n",
            "1/1 [==============================] - 0s 38ms/step\n",
            "1/1 [==============================] - 0s 39ms/step\n",
            "1/1 [==============================] - 0s 38ms/step\n",
            "1/1 [==============================] - 0s 39ms/step\n",
            "1/1 [==============================] - 0s 38ms/step\n",
            "1/1 [==============================] - 0s 38ms/step\n",
            "1/1 [==============================] - 0s 38ms/step\n",
            "1/1 [==============================] - 0s 37ms/step\n",
            "1/1 [==============================] - 0s 37ms/step\n",
            "1/1 [==============================] - 0s 37ms/step\n",
            "1/1 [==============================] - 0s 37ms/step\n",
            "1/1 [==============================] - 0s 37ms/step\n",
            "1/1 [==============================] - 0s 38ms/step\n",
            "1/1 [==============================] - 0s 37ms/step\n",
            "1/1 [==============================] - 0s 38ms/step\n",
            "1/1 [==============================] - 0s 37ms/step\n",
            "1/1 [==============================] - 0s 37ms/step\n",
            "1/1 [==============================] - 0s 38ms/step\n",
            "1/1 [==============================] - 0s 37ms/step\n",
            "1/1 [==============================] - 0s 37ms/step\n",
            "1/1 [==============================] - 0s 38ms/step\n",
            "1/1 [==============================] - 0s 41ms/step\n",
            "1/1 [==============================] - 0s 37ms/step\n",
            "1/1 [==============================] - 0s 38ms/step\n",
            "1/1 [==============================] - 0s 39ms/step\n",
            "1/1 [==============================] - 0s 38ms/step\n",
            "1/1 [==============================] - 0s 40ms/step\n",
            "1/1 [==============================] - 0s 39ms/step\n",
            "1/1 [==============================] - 0s 37ms/step\n",
            "1/1 [==============================] - 0s 37ms/step\n",
            "1/1 [==============================] - 0s 38ms/step\n",
            "1/1 [==============================] - 0s 37ms/step\n",
            "1/1 [==============================] - 0s 37ms/step\n",
            "1/1 [==============================] - 0s 37ms/step\n",
            "1/1 [==============================] - 0s 38ms/step\n",
            "1/1 [==============================] - 0s 37ms/step\n",
            "1/1 [==============================] - 0s 37ms/step\n",
            "1/1 [==============================] - 0s 37ms/step\n",
            "1/1 [==============================] - 0s 37ms/step\n",
            "1/1 [==============================] - 0s 37ms/step\n",
            "1/1 [==============================] - 0s 38ms/step\n",
            "1/1 [==============================] - 0s 37ms/step\n",
            "1/1 [==============================] - 0s 37ms/step\n",
            "1/1 [==============================] - 0s 38ms/step\n",
            "1/1 [==============================] - 0s 37ms/step\n",
            "1/1 [==============================] - 0s 38ms/step\n",
            "1/1 [==============================] - 0s 38ms/step\n",
            "1/1 [==============================] - 0s 37ms/step\n",
            "1/1 [==============================] - 0s 37ms/step\n",
            "1/1 [==============================] - 0s 38ms/step\n",
            "1/1 [==============================] - 0s 39ms/step\n",
            "1/1 [==============================] - 0s 37ms/step\n",
            "1/1 [==============================] - 0s 37ms/step\n",
            "1/1 [==============================] - 0s 37ms/step\n",
            "1/1 [==============================] - 0s 40ms/step\n",
            "1/1 [==============================] - 0s 39ms/step\n",
            "1/1 [==============================] - 0s 40ms/step\n",
            "1/1 [==============================] - 0s 39ms/step\n",
            "1/1 [==============================] - 0s 37ms/step\n",
            "1/1 [==============================] - 0s 38ms/step\n",
            "1/1 [==============================] - 0s 38ms/step\n",
            "1/1 [==============================] - 0s 37ms/step\n",
            "1/1 [==============================] - 0s 37ms/step\n",
            "1/1 [==============================] - 0s 38ms/step\n",
            "1/1 [==============================] - 0s 39ms/step\n",
            "1/1 [==============================] - 0s 37ms/step\n",
            "1/1 [==============================] - 0s 37ms/step\n",
            "1/1 [==============================] - 0s 39ms/step\n",
            "1/1 [==============================] - 0s 37ms/step\n",
            "1/1 [==============================] - 0s 38ms/step\n",
            "1/1 [==============================] - 0s 38ms/step\n",
            "1/1 [==============================] - 0s 37ms/step\n",
            "1/1 [==============================] - 0s 37ms/step\n",
            "1/1 [==============================] - 0s 38ms/step\n",
            "1/1 [==============================] - 0s 37ms/step\n",
            "1/1 [==============================] - 0s 37ms/step\n",
            "1/1 [==============================] - 0s 38ms/step\n",
            "1/1 [==============================] - 0s 37ms/step\n",
            "1/1 [==============================] - 0s 38ms/step\n",
            "1/1 [==============================] - 0s 40ms/step\n",
            "1/1 [==============================] - 0s 38ms/step\n",
            "1/1 [==============================] - 0s 38ms/step\n",
            "1/1 [==============================] - 0s 37ms/step\n",
            "1/1 [==============================] - 0s 37ms/step\n",
            "1/1 [==============================] - 0s 39ms/step\n",
            "1/1 [==============================] - 0s 38ms/step\n",
            "1/1 [==============================] - 0s 39ms/step\n",
            "1/1 [==============================] - 0s 38ms/step\n",
            "1/1 [==============================] - 0s 37ms/step\n",
            "1/1 [==============================] - 0s 38ms/step\n",
            "1/1 [==============================] - 0s 38ms/step\n",
            "1/1 [==============================] - 0s 37ms/step\n",
            "1/1 [==============================] - 0s 37ms/step\n",
            "1/1 [==============================] - 0s 38ms/step\n",
            "1/1 [==============================] - 0s 37ms/step\n",
            "1/1 [==============================] - 0s 37ms/step\n",
            "1/1 [==============================] - 0s 38ms/step\n",
            "1/1 [==============================] - 0s 37ms/step\n",
            "1/1 [==============================] - 0s 36ms/step\n",
            "1/1 [==============================] - 0s 37ms/step\n",
            "1/1 [==============================] - 0s 38ms/step\n",
            "1/1 [==============================] - 0s 37ms/step\n",
            "1/1 [==============================] - 0s 38ms/step\n",
            "1/1 [==============================] - 0s 38ms/step\n",
            "1/1 [==============================] - 0s 37ms/step\n",
            "1/1 [==============================] - 0s 38ms/step\n",
            "1/1 [==============================] - 0s 38ms/step\n",
            "1/1 [==============================] - 0s 36ms/step\n",
            "1/1 [==============================] - 0s 37ms/step\n",
            "1/1 [==============================] - 0s 39ms/step\n",
            "1/1 [==============================] - 0s 37ms/step\n",
            "1/1 [==============================] - 0s 39ms/step\n",
            "1/1 [==============================] - 0s 37ms/step\n",
            "1/1 [==============================] - 0s 39ms/step\n",
            "1/1 [==============================] - 0s 40ms/step\n",
            "1/1 [==============================] - 0s 39ms/step\n",
            "1/1 [==============================] - 0s 37ms/step\n",
            "1/1 [==============================] - 0s 38ms/step\n",
            "1/1 [==============================] - 0s 37ms/step\n",
            "1/1 [==============================] - 0s 39ms/step\n",
            "1/1 [==============================] - 0s 39ms/step\n",
            "1/1 [==============================] - 0s 37ms/step\n",
            "1/1 [==============================] - 0s 39ms/step\n",
            "1/1 [==============================] - 0s 38ms/step\n",
            "1/1 [==============================] - 0s 37ms/step\n",
            "1/1 [==============================] - 0s 39ms/step\n",
            "1/1 [==============================] - 0s 42ms/step\n",
            "1/1 [==============================] - 0s 37ms/step\n"
          ]
        }
      ],
      "source": [
        "# Predict each 3D patch   \n",
        "predicted_patches = []\n",
        "for i in range(patches.shape[0]):\n",
        "  for j in range(patches.shape[1]):\n",
        "    for k in range(patches.shape[2]):\n",
        "      #print(i,j,k)\n",
        "      single_patch = patches[i,j,k, :,:,:]\n",
        "      single_patch_3ch = np.stack((single_patch,)*3, axis=-1)\n",
        "      single_patch_3ch_input = preprocess_input(np.expand_dims(single_patch_3ch, axis=0))\n",
        "      single_patch_prediction = my_model.predict(single_patch_3ch_input)\n",
        "      single_patch_prediction_argmax = np.argmax(single_patch_prediction, axis=4)[0,:,:,:]\n",
        "      predicted_patches.append(single_patch_prediction_argmax)\n",
        "      \n"
      ]
    },
    {
      "cell_type": "code",
      "execution_count": 34,
      "metadata": {
        "id": "yxX9vrPMAvK2"
      },
      "outputs": [
        {
          "name": "stdout",
          "output_type": "stream",
          "text": [
            "(448, 64, 64, 64)\n"
          ]
        }
      ],
      "source": [
        "#Convert list to numpy array\n",
        "predicted_patches = np.array(predicted_patches)\n",
        "print(predicted_patches.shape)"
      ]
    },
    {
      "cell_type": "code",
      "execution_count": 35,
      "metadata": {
        "id": "qYQi_STcA6gw"
      },
      "outputs": [
        {
          "name": "stdout",
          "output_type": "stream",
          "text": [
            "(7, 8, 8, 64, 64, 64)\n"
          ]
        }
      ],
      "source": [
        "#Reshape to the shape we had after patchifying\n",
        "predicted_patches_reshaped = np.reshape(predicted_patches, \n",
        "                                        (patches.shape[0], patches.shape[1], patches.shape[2],\n",
        "                                         patches.shape[3], patches.shape[4], patches.shape[5]) )\n",
        "print(predicted_patches_reshaped.shape)"
      ]
    },
    {
      "cell_type": "code",
      "execution_count": 36,
      "metadata": {
        "id": "SQcYSuaeBP2i"
      },
      "outputs": [
        {
          "name": "stdout",
          "output_type": "stream",
          "text": [
            "(448, 512, 512)\n"
          ]
        }
      ],
      "source": [
        "#Repach individual patches into the orginal volume shape\n",
        "reconstructed_image = unpatchify(predicted_patches_reshaped, large_image.shape)\n",
        "print(reconstructed_image.shape)"
      ]
    },
    {
      "cell_type": "code",
      "execution_count": 37,
      "metadata": {
        "id": "rFF2FwCGDR1A"
      },
      "outputs": [
        {
          "name": "stdout",
          "output_type": "stream",
          "text": [
            "int64\n"
          ]
        }
      ],
      "source": [
        "print(reconstructed_image.dtype)"
      ]
    },
    {
      "cell_type": "code",
      "execution_count": 38,
      "metadata": {
        "id": "6VF_g8oLDjKp"
      },
      "outputs": [
        {
          "name": "stdout",
          "output_type": "stream",
          "text": [
            "uint8\n"
          ]
        }
      ],
      "source": [
        "#Convert to uint8 so we can open image in most image viewing software packages\n",
        "reconstructed_image=reconstructed_image.astype(np.uint8)\n",
        "print(reconstructed_image.dtype)"
      ]
    },
    {
      "cell_type": "code",
      "execution_count": 39,
      "metadata": {
        "id": "OdjWCDYoKLgM"
      },
      "outputs": [
        {
          "name": "stderr",
          "output_type": "stream",
          "text": [
            "/tmp/ipykernel_3732542/1785818526.py:3: DeprecationWarning: <tifffile.imsave> is deprecated. Use tifffile.imwrite\n",
            "  imsave('/home/luser/stelar_3d/drive/MyDrive/Colab Notebooks/data/sandstone_3d/all_images/segmented.tif', reconstructed_image)\n"
          ]
        }
      ],
      "source": [
        "#Now save it as segmented volume.\n",
        "from tifffile import imsave\n",
        "imsave('/home/luser/stelar_3d/drive/MyDrive/Colab Notebooks/data/sandstone_3d/all_images/segmented.tif', reconstructed_image)\n",
        "    "
      ]
    },
    {
      "cell_type": "code",
      "execution_count": 40,
      "metadata": {
        "id": "SsBu290SNNSD"
      },
      "outputs": [],
      "source": [
        "#If you would like to save the volume as multichannel dataset...."
      ]
    },
    {
      "cell_type": "code",
      "execution_count": 41,
      "metadata": {
        "id": "EMFGGwT8FpEl"
      },
      "outputs": [
        {
          "name": "stdout",
          "output_type": "stream",
          "text": [
            "[0 1 2 3]\n"
          ]
        }
      ],
      "source": [
        "print(np.unique(reconstructed_image))"
      ]
    },
    {
      "cell_type": "code",
      "execution_count": 42,
      "metadata": {
        "id": "USCSJT4rGBDt"
      },
      "outputs": [],
      "source": [
        "#Seperate each channel/segment to be combined as multiple channels.\n",
        "num_segments=4\n",
        "segm0 = (reconstructed_image == 0)\n",
        "segm1 = (reconstructed_image == 1)\n",
        "segm2 = (reconstructed_image == 2)\n",
        "segm3 = (reconstructed_image == 3)\n",
        "\n",
        "final = np.empty((reconstructed_image.shape[0], reconstructed_image.shape[1], reconstructed_image.shape[2], num_segments))\n",
        "final[:,:,:,0] = segm0\n",
        "final[:,:,:,1] = segm1\n",
        "final[:,:,:,2] = segm2\n",
        "final[:,:,:,3] = segm3"
      ]
    },
    {
      "cell_type": "code",
      "execution_count": null,
      "metadata": {
        "id": "F4ZfPm41J4yk"
      },
      "outputs": [],
      "source": [
        "#Use APEER OMETIFF library to read and write multidimensional images\n",
        "!pip install apeer-ometiff-library"
      ]
    },
    {
      "cell_type": "code",
      "execution_count": 43,
      "metadata": {
        "id": "enE_X9SCJoYA"
      },
      "outputs": [
        {
          "ename": "ModuleNotFoundError",
          "evalue": "No module named 'apeer_ometiff_library'",
          "output_type": "error",
          "traceback": [
            "\u001b[0;31m---------------------------------------------------------------------------\u001b[0m",
            "\u001b[0;31mModuleNotFoundError\u001b[0m                       Traceback (most recent call last)",
            "Cell \u001b[0;32mIn[43], line 1\u001b[0m\n\u001b[0;32m----> 1\u001b[0m \u001b[38;5;28;01mfrom\u001b[39;00m \u001b[38;5;21;01mapeer_ometiff_library\u001b[39;00m \u001b[38;5;28;01mimport\u001b[39;00m io\n",
            "\u001b[0;31mModuleNotFoundError\u001b[0m: No module named 'apeer_ometiff_library'"
          ]
        }
      ],
      "source": [
        "from apeer_ometiff_library import io"
      ]
    },
    {
      "cell_type": "code",
      "execution_count": 37,
      "metadata": {
        "id": "bj0QC8OWINAD"
      },
      "outputs": [],
      "source": [
        "# Expand image array to 5D of order (T, Z, C, X, Y)\n",
        "# This is the convention for OMETIFF format as written by APEER library\n",
        "final = np.expand_dims(final, axis=0)\n",
        "final=np.swapaxes(final, 2, 4)\n",
        "\n",
        "final = final.astype(np.int8)\n",
        "\n"
      ]
    },
    {
      "cell_type": "code",
      "execution_count": null,
      "metadata": {
        "id": "StgpqkJbIa2F"
      },
      "outputs": [],
      "source": [
        "print(\"Shape of the segmented volume is: T, Z, C, X, Y \", final.shape)\n",
        "print(final.dtype)\n"
      ]
    },
    {
      "cell_type": "code",
      "execution_count": null,
      "metadata": {
        "id": "oT2L6880WY1k"
      },
      "outputs": [],
      "source": [
        "# Write dataset as multi-dimensional OMETIFF *image*\n",
        "io.write_ometiff(\"/home/luser/stelar_3d/drive/MyDrive/Colab Notebooks/data/sandstone_3d/all_images/segmented_multi_channel.ome.tiff\", final)"
      ]
    }
  ],
  "metadata": {
    "accelerator": "GPU",
    "colab": {
      "collapsed_sections": [],
      "name": "3D_Unet.ipynb",
      "provenance": []
    },
    "kernelspec": {
      "display_name": "Python 3 (ipykernel)",
      "language": "python",
      "name": "python3"
    },
    "language_info": {
      "codemirror_mode": {
        "name": "ipython",
        "version": 3
      },
      "file_extension": ".py",
      "mimetype": "text/x-python",
      "name": "python",
      "nbconvert_exporter": "python",
      "pygments_lexer": "ipython3",
      "version": "3.1.-1"
    }
  },
  "nbformat": 4,
  "nbformat_minor": 0
}
